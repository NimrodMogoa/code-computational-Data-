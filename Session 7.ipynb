{
 "cells": [
  {
   "cell_type": "markdown",
   "id": "35eba4b5-0a0a-4f6e-ba55-e19fb8e20178",
   "metadata": {},
   "source": [
    "# Session 7"
   ]
  },
  {
   "cell_type": "markdown",
   "id": "e22dcf93-a2c2-4822-8798-f00f64218595",
   "metadata": {},
   "source": [
    "## Speed up Pandas"
   ]
  },
  {
   "cell_type": "code",
   "execution_count": 17,
   "id": "23235d2a-cd85-4b9a-ad2c-354739041db0",
   "metadata": {},
   "outputs": [],
   "source": [
    "import pandas as pd\n",
    "import numpy as np"
   ]
  },
  {
   "cell_type": "markdown",
   "id": "b221df51-2fb9-41f7-8b3c-86e26a0ebe56",
   "metadata": {},
   "source": [
    "### Create dataset\n",
    "\n",
    "Random data about ficticious cats"
   ]
  },
  {
   "cell_type": "code",
   "execution_count": 2,
   "id": "8445eae5-2c2a-4f4c-8959-d22aeeed2e68",
   "metadata": {},
   "outputs": [],
   "source": [
    "def get_data(size = 20_000):\n",
    "    df = pd.DataFrame()\n",
    "    df['age'] = np.random.randint(0, 30, size)\n",
    "    df['time_laying_down'] = np.random.randint(5,23, size)\n",
    "    df['pct_sleeping'] = np.random.rand(size)\n",
    "    df['favorite_food'] = np.random.choice(['fish', 'poultry', 'cheese', 'mice'], size)\n",
    "    df['favorite_toy'] = np.random.choice(['ball', 'mouse', 'stick'], size)\n",
    "    return df"
   ]
  },
  {
   "cell_type": "markdown",
   "id": "9ba74724-142f-4927-b73f-7fde29b52cb9",
   "metadata": {},
   "source": [
    "### The problem\n",
    "\n",
    "Reward calculation:\n",
    "\n",
    "- If the cat is laying down for more than 20 hours AND sleeping for more than 50% it gets it's favorite toy\n",
    "- Otherwise, it gets its favorite food\n",
    "- If it is over 20 it gets the favorite food regardless"
   ]
  },
  {
   "cell_type": "code",
   "execution_count": 3,
   "id": "51278bd1-f79e-4913-94e8-bbb875954a55",
   "metadata": {},
   "outputs": [],
   "source": [
    "def reward_calc(row):\n",
    "    if row['age'] >= 20:\n",
    "        return row['favorite_food']\n",
    "    if (row['time_laying_down'] > 20) & (row['pct_sleeping'] > .5):\n",
    "        return row['favorite_toy']\n",
    "    return row['favorite_food']"
   ]
  },
  {
   "cell_type": "markdown",
   "id": "6eadff3f-f8f5-49f1-b9d6-e658523cdbad",
   "metadata": {},
   "source": [
    "### Very Slow - Standard Loop"
   ]
  },
  {
   "cell_type": "code",
   "execution_count": 4,
   "id": "245d6dab-d0e7-407d-8c05-b780320a343b",
   "metadata": {},
   "outputs": [],
   "source": [
    "df = get_data()"
   ]
  },
  {
   "cell_type": "code",
   "execution_count": 5,
   "id": "1365b7de-cd9a-4a61-900d-20d2f5a9ae58",
   "metadata": {},
   "outputs": [
    {
     "name": "stdout",
     "output_type": "stream",
     "text": [
      "2.06 s ± 15.8 ms per loop (mean ± std. dev. of 7 runs, 1 loop each)\n"
     ]
    }
   ],
   "source": [
    "%%timeit\n",
    "for ind in range(0, len(df)):\n",
    "    df.loc[ind, 'reward'] = reward_calc(df.loc[ind,:])"
   ]
  },
  {
   "cell_type": "markdown",
   "id": "2b38f54f-e52a-49a1-9d53-6e7dd59940f5",
   "metadata": {},
   "source": [
    "### Slow - Iterrows"
   ]
  },
  {
   "cell_type": "code",
   "execution_count": 6,
   "id": "d3c4011d-c8de-4c70-a7a7-5d17802b0c0b",
   "metadata": {},
   "outputs": [],
   "source": [
    "df = get_data()"
   ]
  },
  {
   "cell_type": "code",
   "execution_count": 7,
   "id": "e0002065-7169-4bd3-9411-f49f7d362dd4",
   "metadata": {},
   "outputs": [
    {
     "name": "stdout",
     "output_type": "stream",
     "text": [
      "1.11 s ± 15.6 ms per loop (mean ± std. dev. of 7 runs, 1 loop each)\n"
     ]
    }
   ],
   "source": [
    "%%timeit\n",
    "\n",
    "for index, row in df.iterrows():\n",
    "    df.loc[index, 'reward'] = reward_calc(row)"
   ]
  },
  {
   "cell_type": "markdown",
   "id": "1697ef8d-52c5-469e-aad7-90872e264617",
   "metadata": {},
   "source": [
    "### Medium - Apply"
   ]
  },
  {
   "cell_type": "code",
   "execution_count": 8,
   "id": "cd86b063-9ba0-4cb9-9b42-6be0e39e0bd3",
   "metadata": {},
   "outputs": [],
   "source": [
    "df = get_data()"
   ]
  },
  {
   "cell_type": "code",
   "execution_count": 9,
   "id": "d90735ad-4068-4846-8c9b-2b0c88ce866e",
   "metadata": {},
   "outputs": [
    {
     "name": "stdout",
     "output_type": "stream",
     "text": [
      "172 ms ± 1.62 ms per loop (mean ± std. dev. of 7 runs, 10 loops each)\n"
     ]
    }
   ],
   "source": [
    "%%timeit\n",
    "\n",
    "df['reward'] = df.apply(reward_calc, axis=1)"
   ]
  },
  {
   "cell_type": "markdown",
   "id": "2aa75dcc-1a1d-4416-9b27-eb85dac18282",
   "metadata": {},
   "source": [
    "### Fast - Pandas Vectorized"
   ]
  },
  {
   "cell_type": "code",
   "execution_count": 10,
   "id": "1fdb32ca-5453-49eb-813d-514d1f2789eb",
   "metadata": {},
   "outputs": [
    {
     "data": {
      "text/plain": [
       "0        False\n",
       "1         True\n",
       "2        False\n",
       "3        False\n",
       "4        False\n",
       "         ...  \n",
       "19995    False\n",
       "19996    False\n",
       "19997    False\n",
       "19998    False\n",
       "19999    False\n",
       "Length: 20000, dtype: bool"
      ]
     },
     "execution_count": 10,
     "metadata": {},
     "output_type": "execute_result"
    }
   ],
   "source": [
    "(df['time_laying_down'] > 20) & (df['pct_sleeping'] > .5)"
   ]
  },
  {
   "cell_type": "code",
   "execution_count": 11,
   "id": "19e8c139-09fa-4a6e-ac6d-7a50821b9fdb",
   "metadata": {},
   "outputs": [],
   "source": [
    "df = get_data()"
   ]
  },
  {
   "cell_type": "code",
   "execution_count": 12,
   "id": "a1c5137a-d543-4462-8c30-d27cfd99e9df",
   "metadata": {},
   "outputs": [
    {
     "name": "stdout",
     "output_type": "stream",
     "text": [
      "464 µs ± 5.03 µs per loop (mean ± std. dev. of 7 runs, 1,000 loops each)\n"
     ]
    }
   ],
   "source": [
    "%%timeit\n",
    "\n",
    "df['reward'] = df['favorite_food']\n",
    "df.loc[(df['time_laying_down'] > 20) & (df['pct_sleeping'] > .5), 'reward'] = df['favorite_toy']"
   ]
  },
  {
   "cell_type": "markdown",
   "id": "7d1af9c8-cbc4-4690-8def-0b13294afea7",
   "metadata": {},
   "source": [
    "### Fastest - Numpy Vectorization"
   ]
  },
  {
   "cell_type": "code",
   "execution_count": 13,
   "id": "38ddf21c-1cf8-4220-bee8-a8106088503f",
   "metadata": {},
   "outputs": [],
   "source": [
    "df = get_data()"
   ]
  },
  {
   "cell_type": "code",
   "execution_count": 14,
   "id": "b48de72e-946e-47c6-96dd-3c7de27b24c8",
   "metadata": {},
   "outputs": [
    {
     "name": "stdout",
     "output_type": "stream",
     "text": [
      "343 µs ± 4.27 µs per loop (mean ± std. dev. of 7 runs, 1,000 loops each)\n"
     ]
    }
   ],
   "source": [
    "%%timeit\n",
    "\n",
    "df['reward'] = df['favorite_food']\n",
    "df.loc[(df['time_laying_down'].values > 20) & (df['pct_sleeping'].values > .5), 'reward'] = df['favorite_toy']"
   ]
  },
  {
   "cell_type": "markdown",
   "id": "45709718-7751-41c5-a6ca-126e25dec762",
   "metadata": {},
   "source": [
    "## Efficient memory use\n",
    "\n",
    "### Create Data\n",
    "\n",
    "Random athletes in sports teams"
   ]
  },
  {
   "cell_type": "code",
   "execution_count": 15,
   "id": "26c81924-8bed-495c-908c-d2bda549cf01",
   "metadata": {},
   "outputs": [],
   "source": [
    "def get_dataset(size = 10_000):\n",
    "    df = pd.DataFrame()\n",
    "    df['position'] = np.random.choice(['lef', 'middle', 'right'], size)\n",
    "    df['age'] = np.random.randint(5, 50, size)\n",
    "    df['team'] = np.random.choice(['red', 'yellow', 'blue', 'green'], size)\n",
    "    df['win'] = np.random.choice(['yes', 'no'], size)\n",
    "    df['prob'] = np.random.uniform(0, 1, size)\n",
    "    return df"
   ]
  },
  {
   "cell_type": "code",
   "execution_count": 16,
   "id": "018b8071-ae54-4f1d-9b64-a4630bcacd85",
   "metadata": {},
   "outputs": [
    {
     "name": "stdout",
     "output_type": "stream",
     "text": [
      "<class 'pandas.core.frame.DataFrame'>\n",
      "RangeIndex: 2000000 entries, 0 to 1999999\n",
      "Data columns (total 5 columns):\n",
      " #   Column    Dtype  \n",
      "---  ------    -----  \n",
      " 0   position  object \n",
      " 1   age       int64  \n",
      " 2   team      object \n",
      " 3   win       object \n",
      " 4   prob      float64\n",
      "dtypes: float64(1), int64(1), object(3)\n",
      "memory usage: 76.3+ MB\n"
     ]
    }
   ],
   "source": [
    "df = get_dataset(2_000_000)\n",
    "df.info()"
   ]
  },
  {
   "cell_type": "code",
   "execution_count": 17,
   "id": "56ea1f98-f4ef-4bcb-87fe-647fcba9b874",
   "metadata": {},
   "outputs": [
    {
     "name": "stdout",
     "output_type": "stream",
     "text": [
      "1.01 s ± 19.1 ms per loop (mean ± std. dev. of 7 runs, 1 loop each)\n",
      "1.12 s ± 49.9 ms per loop (mean ± std. dev. of 7 runs, 1 loop each)\n"
     ]
    }
   ],
   "source": [
    "%timeit df['age_rank'] = df.groupby(['team', 'position'])['age'].rank()\n",
    "%timeit df['prob_rank'] = df.groupby(['team', 'position'])['prob'].rank()"
   ]
  },
  {
   "cell_type": "markdown",
   "id": "f64d3b3b-0b9c-421e-94ec-1c4368fdce25",
   "metadata": {},
   "source": [
    "### More efficient data types - categorical"
   ]
  },
  {
   "cell_type": "code",
   "execution_count": 18,
   "id": "70200370-15b0-4792-9e2d-a712983ae7e5",
   "metadata": {},
   "outputs": [
    {
     "name": "stdout",
     "output_type": "stream",
     "text": [
      "<class 'pandas.core.frame.DataFrame'>\n",
      "RangeIndex: 2000000 entries, 0 to 1999999\n",
      "Data columns (total 5 columns):\n",
      " #   Column    Dtype   \n",
      "---  ------    -----   \n",
      " 0   position  category\n",
      " 1   age       int64   \n",
      " 2   team      object  \n",
      " 3   win       object  \n",
      " 4   prob      float64 \n",
      "dtypes: category(1), float64(1), int64(1), object(2)\n",
      "memory usage: 62.9+ MB\n"
     ]
    }
   ],
   "source": [
    "df = get_dataset(2_000_000)\n",
    "df['position'] = df['position'].astype('category')\n",
    "df.info()"
   ]
  },
  {
   "cell_type": "code",
   "execution_count": 19,
   "id": "fee8347e-4b0b-446c-ac13-ee27c6c746a5",
   "metadata": {},
   "outputs": [
    {
     "name": "stdout",
     "output_type": "stream",
     "text": [
      "<class 'pandas.core.frame.DataFrame'>\n",
      "RangeIndex: 2000000 entries, 0 to 1999999\n",
      "Data columns (total 5 columns):\n",
      " #   Column    Dtype   \n",
      "---  ------    -----   \n",
      " 0   position  category\n",
      " 1   age       int64   \n",
      " 2   team      category\n",
      " 3   win       object  \n",
      " 4   prob      float64 \n",
      "dtypes: category(2), float64(1), int64(1), object(1)\n",
      "memory usage: 49.6+ MB\n"
     ]
    }
   ],
   "source": [
    "df['team'] = df['team'].astype('category')\n",
    "df.info()"
   ]
  },
  {
   "cell_type": "code",
   "execution_count": 20,
   "id": "d631d92c-a619-4961-8396-467dabb9688e",
   "metadata": {},
   "outputs": [
    {
     "name": "stdout",
     "output_type": "stream",
     "text": [
      "862 ms ± 28.8 ms per loop (mean ± std. dev. of 7 runs, 1 loop each)\n",
      "948 ms ± 46.4 ms per loop (mean ± std. dev. of 7 runs, 1 loop each)\n"
     ]
    }
   ],
   "source": [
    "%timeit df['age_rank'] = df.groupby(['team', 'position'])['age'].rank()\n",
    "%timeit df['prob_rank'] = df.groupby(['team', 'position'])['prob'].rank()"
   ]
  },
  {
   "cell_type": "markdown",
   "id": "da0f2ae3-82a5-405e-92eb-d824b6dcefa4",
   "metadata": {},
   "source": [
    "### More efficient data types - numerical\n",
    "\n",
    "- int8 can store integers from -128 to 127\n",
    "- int16 can store integers from -32,768 to 32,767\n",
    "- int32 can store integers from -9,223,372,036,854,775,808 to 9,223,372,036,854,775,807"
   ]
  },
  {
   "cell_type": "code",
   "execution_count": 21,
   "id": "6a694243-8c50-495a-a970-70d277290e8f",
   "metadata": {},
   "outputs": [
    {
     "name": "stdout",
     "output_type": "stream",
     "text": [
      "<class 'pandas.core.frame.DataFrame'>\n",
      "RangeIndex: 2000000 entries, 0 to 1999999\n",
      "Data columns (total 5 columns):\n",
      " #   Column    Dtype   \n",
      "---  ------    -----   \n",
      " 0   position  category\n",
      " 1   age       int8    \n",
      " 2   team      category\n",
      " 3   win       object  \n",
      " 4   prob      float64 \n",
      "dtypes: category(2), float64(1), int8(1), object(1)\n",
      "memory usage: 36.2+ MB\n"
     ]
    }
   ],
   "source": [
    "df = get_dataset(2_000_000)\n",
    "df['position'] = df['position'].astype('category')\n",
    "df['team'] = df['team'].astype('category')\n",
    "df['age'] = df['age'].astype('int8')\n",
    "df.info()"
   ]
  },
  {
   "cell_type": "code",
   "execution_count": 22,
   "id": "e83139bd-02a4-44b9-93e7-03a210db2e71",
   "metadata": {},
   "outputs": [
    {
     "name": "stdout",
     "output_type": "stream",
     "text": [
      "<class 'pandas.core.frame.DataFrame'>\n",
      "RangeIndex: 2000000 entries, 0 to 1999999\n",
      "Data columns (total 5 columns):\n",
      " #   Column    Dtype   \n",
      "---  ------    -----   \n",
      " 0   position  category\n",
      " 1   age       int8    \n",
      " 2   team      category\n",
      " 3   win       object  \n",
      " 4   prob      float32 \n",
      "dtypes: category(2), float32(1), int8(1), object(1)\n",
      "memory usage: 28.6+ MB\n"
     ]
    }
   ],
   "source": [
    "df['prob'] = df['prob'].astype('float32')\n",
    "df.info()"
   ]
  },
  {
   "cell_type": "markdown",
   "id": "6941b6f3-6925-4d40-86aa-05f241325534",
   "metadata": {},
   "source": [
    "### More efficient data types - bool"
   ]
  },
  {
   "cell_type": "code",
   "execution_count": 23,
   "id": "bb53da1b-ac16-4495-ad2d-3fbff186b83b",
   "metadata": {},
   "outputs": [
    {
     "name": "stdout",
     "output_type": "stream",
     "text": [
      "<class 'pandas.core.frame.DataFrame'>\n",
      "RangeIndex: 2000000 entries, 0 to 1999999\n",
      "Data columns (total 5 columns):\n",
      " #   Column    Dtype   \n",
      "---  ------    -----   \n",
      " 0   position  category\n",
      " 1   age       int8    \n",
      " 2   team      category\n",
      " 3   win       bool    \n",
      " 4   prob      float32 \n",
      "dtypes: bool(1), category(2), float32(1), int8(1)\n",
      "memory usage: 15.3 MB\n"
     ]
    }
   ],
   "source": [
    "df['win'] = df['win'].map({'yes':True, 'no':False})\n",
    "df.info()"
   ]
  },
  {
   "cell_type": "markdown",
   "id": "098b2ce4-1583-43e7-9013-aa3eebfd4add",
   "metadata": {},
   "source": [
    "### Speed comparison"
   ]
  },
  {
   "cell_type": "code",
   "execution_count": 24,
   "id": "81aa4fb7-aecc-4208-981e-1439fb1d6181",
   "metadata": {},
   "outputs": [],
   "source": [
    "def set_dtypes(df):\n",
    "    df['position'] = df['position'].astype('category')\n",
    "    df['team'] = df['team'].astype('category')\n",
    "    df['age'] = df['age'].astype('int8')\n",
    "    df['prob'] = df['prob'].astype('float32')\n",
    "    df['win'] = df['win'].map({'yes':True, 'no':False})\n",
    "    return df"
   ]
  },
  {
   "cell_type": "code",
   "execution_count": 25,
   "id": "68e7dbd6-1196-4d53-a206-745d45e74cd9",
   "metadata": {},
   "outputs": [
    {
     "name": "stdout",
     "output_type": "stream",
     "text": [
      "1.01 s ± 20.9 ms per loop (mean ± std. dev. of 7 runs, 1 loop each)\n",
      "1.19 s ± 94.6 ms per loop (mean ± std. dev. of 7 runs, 1 loop each)\n",
      "1.36 s ± 84.7 ms per loop (mean ± std. dev. of 7 runs, 1 loop each)\n"
     ]
    }
   ],
   "source": [
    "df = get_dataset(2_000_000)\n",
    "\n",
    "%timeit df['age_rank'] = df.groupby(['team', 'position'])['age'].rank()\n",
    "%timeit df['prob_rank'] = df.groupby(['team', 'position'])['prob'].rank()\n",
    "%timeit df['win_prob_rank'] = df.groupby(['team', 'position', 'win'])['prob'].rank()"
   ]
  },
  {
   "cell_type": "code",
   "execution_count": 26,
   "id": "13095c68-2a3f-433a-9303-4e9a37ef4d32",
   "metadata": {},
   "outputs": [
    {
     "name": "stdout",
     "output_type": "stream",
     "text": [
      "875 ms ± 16.9 ms per loop (mean ± std. dev. of 7 runs, 1 loop each)\n",
      "934 ms ± 35 ms per loop (mean ± std. dev. of 7 runs, 1 loop each)\n",
      "955 ms ± 21 ms per loop (mean ± std. dev. of 7 runs, 1 loop each)\n"
     ]
    }
   ],
   "source": [
    "df = get_dataset(2_000_000)\n",
    "df = set_dtypes(df)\n",
    "\n",
    "%timeit df['age_rank'] = df.groupby(['team', 'position'])['age'].rank().astype('int32')\n",
    "%timeit df['prob_rank'] = df.groupby(['team', 'position'])['prob'].rank().astype('int32')\n",
    "%timeit df['win_prob_rank'] = df.groupby(['team', 'position', 'win'])['prob'].rank().astype('int32')"
   ]
  },
  {
   "cell_type": "code",
   "execution_count": 27,
   "id": "bd4e9011-a0ac-4d63-b4b7-c308c3bd4fdd",
   "metadata": {},
   "outputs": [
    {
     "name": "stdout",
     "output_type": "stream",
     "text": [
      "<class 'pandas.core.frame.DataFrame'>\n",
      "RangeIndex: 2000000 entries, 0 to 1999999\n",
      "Data columns (total 8 columns):\n",
      " #   Column         Dtype   \n",
      "---  ------         -----   \n",
      " 0   position       category\n",
      " 1   age            int8    \n",
      " 2   team           category\n",
      " 3   win            bool    \n",
      " 4   prob           float32 \n",
      " 5   age_rank       int32   \n",
      " 6   prob_rank      int32   \n",
      " 7   win_prob_rank  int32   \n",
      "dtypes: bool(1), category(2), float32(1), int32(3), int8(1)\n",
      "memory usage: 38.1 MB\n"
     ]
    }
   ],
   "source": [
    "df.info()"
   ]
  },
  {
   "cell_type": "markdown",
   "id": "4b6cc65b",
   "metadata": {},
   "source": [
    "# Outside of Pandas\n",
    "\n",
    "There are many other libraries that perform faster than Pandas - PySpark, Vaex, Modin, Dask and Polars are examples."
   ]
  },
  {
   "cell_type": "markdown",
   "id": "c0463bb4",
   "metadata": {},
   "source": [
    "## Polars\n",
    "\n",
    "Looking at an example dataset from Kaggle (it is 9GB across 4 files - therefor no uplad to myCourses): https://www.kaggle.com/datasets/new-york-city/nyc-parking-tickets?resource=download\n",
    "\n"
   ]
  },
  {
   "cell_type": "code",
   "execution_count": 3,
   "id": "66131712",
   "metadata": {},
   "outputs": [
    {
     "name": "stdout",
     "output_type": "stream",
     "text": [
      "Collecting polars\n",
      "  Obtaining dependency information for polars from https://files.pythonhosted.org/packages/41/6e/38d062077df6d898afcc661420a83f77f0369beb38fc56c9535036d27768/polars-0.20.7-cp38-abi3-macosx_11_0_arm64.whl.metadata\n",
      "  Downloading polars-0.20.7-cp38-abi3-macosx_11_0_arm64.whl.metadata (15 kB)\n",
      "Downloading polars-0.20.7-cp38-abi3-macosx_11_0_arm64.whl (25.3 MB)\n",
      "\u001b[2K   \u001b[90m━━━━━━━━━━━━━━━━━━━━━━━━━━━━━━━━━━━━━━━━\u001b[0m \u001b[32m25.3/25.3 MB\u001b[0m \u001b[31m1.7 MB/s\u001b[0m eta \u001b[36m0:00:00\u001b[0m00:01\u001b[0m00:01\u001b[0m\n",
      "\u001b[?25hInstalling collected packages: polars\n",
      "Successfully installed polars-0.20.7\n"
     ]
    }
   ],
   "source": [
    "!pip install polars"
   ]
  },
  {
   "cell_type": "code",
   "execution_count": 5,
   "id": "d3bf9c72",
   "metadata": {},
   "outputs": [],
   "source": [
    "import polars as pl\n",
    "from pathlib import Path"
   ]
  },
  {
   "cell_type": "code",
   "execution_count": 9,
   "id": "d25fe4e4",
   "metadata": {},
   "outputs": [
    {
     "name": "stdout",
     "output_type": "stream",
     "text": [
      "2.55 s ± 83.4 ms per loop (mean ± std. dev. of 7 runs, 1 loop each)\n"
     ]
    }
   ],
   "source": [
    "%%timeit\n",
    "\n",
    "# Reading the file\n",
    "df = pl.scan_csv(Path('data').joinpath(Path('Parking_Violations_Issued_-_Fiscal_Year_2017.csv')), ignore_errors = True).collect()\n",
    "\n",
    "df"
   ]
  },
  {
   "cell_type": "code",
   "execution_count": 13,
   "id": "a5fc24bc",
   "metadata": {},
   "outputs": [
    {
     "data": {
      "text/html": [
       "<div><style>\n",
       ".dataframe > thead > tr,\n",
       ".dataframe > tbody > tr {\n",
       "  text-align: right;\n",
       "  white-space: pre-wrap;\n",
       "}\n",
       "</style>\n",
       "<small>shape: (8_481_061, 43)</small><table border=\"1\" class=\"dataframe\"><thead><tr><th>Summons Number</th><th>Plate ID</th><th>Registration State</th><th>Plate Type</th><th>Issue Date</th><th>Violation Code</th><th>Vehicle Body Type</th><th>Vehicle Make</th><th>Issuing Agency</th><th>Street Code1</th><th>Street Code2</th><th>Street Code3</th><th>Vehicle Expiration Date</th><th>Violation Location</th><th>Violation Precinct</th><th>Issuer Precinct</th><th>Issuer Code</th><th>Issuer Command</th><th>Issuer Squad</th><th>Violation Time</th><th>Time First Observed</th><th>Violation County</th><th>Violation In Front Of Or Opposite</th><th>House Number</th><th>Street Name</th><th>Intersecting Street</th><th>Date First Observed</th><th>Law Section</th><th>Sub Division</th><th>Violation Legal Code</th><th>Days Parking In Effect    </th><th>From Hours In Effect</th><th>To Hours In Effect</th><th>Vehicle Color</th><th>Unregistered Vehicle?</th><th>Vehicle Year</th><th>Meter Number</th><th>Feet From Curb</th><th>Violation Post Code</th><th>Violation Description</th><th>No Standing or Stopping Violation</th><th>Hydrant Violation</th><th>Double Parking Violation</th></tr><tr><td>i64</td><td>str</td><td>str</td><td>str</td><td>str</td><td>i64</td><td>str</td><td>str</td><td>str</td><td>i64</td><td>i64</td><td>i64</td><td>i64</td><td>i64</td><td>i64</td><td>i64</td><td>i64</td><td>str</td><td>str</td><td>str</td><td>str</td><td>str</td><td>str</td><td>str</td><td>str</td><td>str</td><td>i64</td><td>i64</td><td>str</td><td>str</td><td>str</td><td>str</td><td>str</td><td>str</td><td>i64</td><td>i64</td><td>str</td><td>i64</td><td>str</td><td>str</td><td>str</td><td>str</td><td>str</td></tr></thead><tbody><tr><td>5092469481</td><td>&quot;GZH7067&quot;</td><td>&quot;NY&quot;</td><td>&quot;PAS&quot;</td><td>&quot;07/10/2016&quot;</td><td>7</td><td>&quot;SUBN&quot;</td><td>&quot;TOYOT&quot;</td><td>&quot;V&quot;</td><td>0</td><td>0</td><td>0</td><td>0</td><td>null</td><td>0</td><td>0</td><td>0</td><td>null</td><td>null</td><td>&quot;0143A&quot;</td><td>null</td><td>&quot;BX&quot;</td><td>null</td><td>null</td><td>&quot;ALLERTON AVE (…</td><td>&quot;BARNES AVE&quot;</td><td>0</td><td>1111</td><td>&quot;D&quot;</td><td>&quot;T&quot;</td><td>null</td><td>null</td><td>null</td><td>&quot;GY&quot;</td><td>null</td><td>2001</td><td>null</td><td>0</td><td>null</td><td>&quot;FAILURE TO STO…</td><td>null</td><td>null</td><td>null</td></tr><tr><td>5092451658</td><td>&quot;GZH7067&quot;</td><td>&quot;NY&quot;</td><td>&quot;PAS&quot;</td><td>&quot;07/08/2016&quot;</td><td>7</td><td>&quot;SUBN&quot;</td><td>&quot;TOYOT&quot;</td><td>&quot;V&quot;</td><td>0</td><td>0</td><td>0</td><td>0</td><td>null</td><td>0</td><td>0</td><td>0</td><td>null</td><td>null</td><td>&quot;0400P&quot;</td><td>null</td><td>&quot;BX&quot;</td><td>null</td><td>null</td><td>&quot;ALLERTON AVE (…</td><td>&quot;BARNES AVE&quot;</td><td>0</td><td>1111</td><td>&quot;D&quot;</td><td>&quot;T&quot;</td><td>null</td><td>null</td><td>null</td><td>&quot;GY&quot;</td><td>null</td><td>2001</td><td>null</td><td>0</td><td>null</td><td>&quot;FAILURE TO STO…</td><td>null</td><td>null</td><td>null</td></tr><tr><td>4006265037</td><td>&quot;FZX9232&quot;</td><td>&quot;NY&quot;</td><td>&quot;PAS&quot;</td><td>&quot;08/23/2016&quot;</td><td>5</td><td>&quot;SUBN&quot;</td><td>&quot;FORD&quot;</td><td>&quot;V&quot;</td><td>0</td><td>0</td><td>0</td><td>0</td><td>null</td><td>0</td><td>0</td><td>0</td><td>null</td><td>null</td><td>&quot;0233P&quot;</td><td>null</td><td>&quot;BX&quot;</td><td>null</td><td>null</td><td>&quot;SB WEBSTER AVE…</td><td>&quot;94TH ST&quot;</td><td>0</td><td>1111</td><td>&quot;C&quot;</td><td>&quot;T&quot;</td><td>null</td><td>null</td><td>null</td><td>&quot;BK&quot;</td><td>null</td><td>2004</td><td>null</td><td>0</td><td>null</td><td>&quot;BUS LANE VIOLA…</td><td>null</td><td>null</td><td>null</td></tr><tr><td>8478629828</td><td>&quot;66623ME&quot;</td><td>&quot;NY&quot;</td><td>&quot;COM&quot;</td><td>&quot;06/14/2017&quot;</td><td>47</td><td>&quot;REFG&quot;</td><td>&quot;MITSU&quot;</td><td>&quot;T&quot;</td><td>10610</td><td>34330</td><td>34350</td><td>20180630</td><td>14</td><td>14</td><td>14</td><td>359594</td><td>&quot;T102&quot;</td><td>&quot;J&quot;</td><td>&quot;1120A&quot;</td><td>null</td><td>&quot;NY&quot;</td><td>&quot;O&quot;</td><td>&quot;330&quot;</td><td>&quot;7th Ave&quot;</td><td>null</td><td>0</td><td>408</td><td>&quot;l2&quot;</td><td>null</td><td>&quot;Y&quot;</td><td>&quot;0700A&quot;</td><td>&quot;0700P&quot;</td><td>&quot;WH&quot;</td><td>null</td><td>2007</td><td>null</td><td>0</td><td>&quot;04&quot;</td><td>&quot;47-Double PKG-…</td><td>null</td><td>null</td><td>null</td></tr><tr><td>7868300310</td><td>&quot;37033JV&quot;</td><td>&quot;NY&quot;</td><td>&quot;COM&quot;</td><td>&quot;11/21/2016&quot;</td><td>69</td><td>&quot;DELV&quot;</td><td>&quot;INTER&quot;</td><td>&quot;T&quot;</td><td>10510</td><td>34310</td><td>34330</td><td>20170228</td><td>13</td><td>13</td><td>13</td><td>364832</td><td>&quot;T102&quot;</td><td>&quot;M&quot;</td><td>&quot;0555P&quot;</td><td>null</td><td>&quot;NY&quot;</td><td>&quot;F&quot;</td><td>&quot;799&quot;</td><td>&quot;6th Ave&quot;</td><td>null</td><td>0</td><td>408</td><td>&quot;h1&quot;</td><td>null</td><td>&quot;Y&quot;</td><td>&quot;0700A&quot;</td><td>&quot;0700P&quot;</td><td>&quot;WHITE&quot;</td><td>null</td><td>2007</td><td>null</td><td>0</td><td>&quot;31 6&quot;</td><td>&quot;69-Failure to …</td><td>null</td><td>null</td><td>null</td></tr><tr><td>5096917368</td><td>&quot;FZD8593&quot;</td><td>&quot;NY&quot;</td><td>&quot;PAS&quot;</td><td>&quot;06/13/2017&quot;</td><td>7</td><td>&quot;SUBN&quot;</td><td>&quot;ME/BE&quot;</td><td>&quot;V&quot;</td><td>0</td><td>0</td><td>0</td><td>0</td><td>null</td><td>0</td><td>0</td><td>0</td><td>null</td><td>null</td><td>&quot;0852P&quot;</td><td>null</td><td>&quot;QN&quot;</td><td>null</td><td>null</td><td>&quot;NORTHERN BLVD …</td><td>&quot;@ MARATHON PKW…</td><td>0</td><td>1111</td><td>&quot;D&quot;</td><td>&quot;T&quot;</td><td>null</td><td>null</td><td>null</td><td>&quot;WH&quot;</td><td>null</td><td>2012</td><td>null</td><td>0</td><td>null</td><td>&quot;FAILURE TO STO…</td><td>null</td><td>null</td><td>null</td></tr><tr><td>4627113330</td><td>&quot;HCA5464&quot;</td><td>&quot;NY&quot;</td><td>&quot;OMS&quot;</td><td>&quot;11/21/2016&quot;</td><td>36</td><td>&quot;SUBN&quot;</td><td>&quot;DODGE&quot;</td><td>&quot;V&quot;</td><td>0</td><td>0</td><td>0</td><td>0</td><td>null</td><td>0</td><td>0</td><td>0</td><td>null</td><td>null</td><td>&quot;1005A&quot;</td><td>null</td><td>&quot;QN&quot;</td><td>null</td><td>null</td><td>&quot;NB BAISLEY BLV…</td><td>&quot;5TH ST&quot;</td><td>0</td><td>1180</td><td>&quot;B&quot;</td><td>&quot;T&quot;</td><td>null</td><td>null</td><td>null</td><td>&quot;BK&quot;</td><td>null</td><td>2016</td><td>null</td><td>0</td><td>null</td><td>&quot;PHTO SCHOOL ZN…</td><td>null</td><td>null</td><td>null</td></tr><tr><td>1407740258</td><td>&quot;2513JMG&quot;</td><td>&quot;NY&quot;</td><td>&quot;COM&quot;</td><td>&quot;01/11/2017&quot;</td><td>78</td><td>&quot;DELV&quot;</td><td>&quot;FRUEH&quot;</td><td>&quot;P&quot;</td><td>0</td><td>40404</td><td>40404</td><td>20161130</td><td>106</td><td>106</td><td>106</td><td>960979</td><td>&quot;0106&quot;</td><td>&quot;0000&quot;</td><td>&quot;0015A&quot;</td><td>null</td><td>&quot;Q&quot;</td><td>null</td><td>&quot;126&quot;</td><td>&quot;ST 115 AVE&quot;</td><td>null</td><td>0</td><td>408</td><td>&quot;E2&quot;</td><td>null</td><td>&quot;BBBBBBB&quot;</td><td>&quot;ALL&quot;</td><td>&quot;ALL&quot;</td><td>&quot;WHITE&quot;</td><td>0</td><td>2015</td><td>&quot;-&quot;</td><td>0</td><td>null</td><td>null</td><td>null</td><td>null</td><td>null</td></tr><tr><td>8009901763</td><td>&quot;13657MD&quot;</td><td>&quot;NY&quot;</td><td>&quot;COM&quot;</td><td>&quot;09/27/2016&quot;</td><td>19</td><td>&quot;DELV&quot;</td><td>&quot;KENWO&quot;</td><td>&quot;T&quot;</td><td>10510</td><td>34870</td><td>34890</td><td>20170331</td><td>18</td><td>18</td><td>18</td><td>357355</td><td>&quot;T400&quot;</td><td>&quot;A&quot;</td><td>&quot;0707A&quot;</td><td>null</td><td>&quot;NY&quot;</td><td>&quot;O&quot;</td><td>&quot;1365&quot;</td><td>&quot;6th Ave&quot;</td><td>null</td><td>0</td><td>408</td><td>&quot;c3&quot;</td><td>null</td><td>&quot;YYYYYYY&quot;</td><td>null</td><td>null</td><td>&quot;RD&quot;</td><td>null</td><td>2013</td><td>null</td><td>0</td><td>&quot;01 9&quot;</td><td>&quot;19-No Stand (b…</td><td>null</td><td>null</td><td>null</td></tr><tr><td>4625926610</td><td>&quot;N102911C&quot;</td><td>&quot;NY&quot;</td><td>&quot;OMT&quot;</td><td>&quot;10/27/2016&quot;</td><td>36</td><td>&quot;VAN&quot;</td><td>&quot;FORD&quot;</td><td>&quot;V&quot;</td><td>0</td><td>0</td><td>0</td><td>0</td><td>null</td><td>0</td><td>0</td><td>0</td><td>null</td><td>null</td><td>&quot;1022A&quot;</td><td>null</td><td>&quot;QN&quot;</td><td>null</td><td>null</td><td>&quot;EB HORACE HARD…</td><td>&quot;PRESSWAY @ PEC…</td><td>0</td><td>1180</td><td>&quot;B&quot;</td><td>&quot;T&quot;</td><td>null</td><td>null</td><td>null</td><td>&quot;WH&quot;</td><td>null</td><td>2008</td><td>null</td><td>0</td><td>null</td><td>&quot;PHTO SCHOOL ZN…</td><td>null</td><td>null</td><td>null</td></tr><tr><td>1416492320</td><td>&quot;FGR5997&quot;</td><td>&quot;NY&quot;</td><td>&quot;PAS&quot;</td><td>&quot;09/30/2016&quot;</td><td>21</td><td>&quot;SDN&quot;</td><td>&quot;NISSA&quot;</td><td>&quot;P&quot;</td><td>53620</td><td>74250</td><td>74260</td><td>20170303</td><td>44</td><td>44</td><td>44</td><td>905733</td><td>&quot;0044&quot;</td><td>&quot;0000&quot;</td><td>&quot;1150A&quot;</td><td>null</td><td>&quot;BX&quot;</td><td>&quot;F&quot;</td><td>&quot;1224&quot;</td><td>&quot;NELSON AVE&quot;</td><td>null</td><td>0</td><td>408</td><td>&quot;F1&quot;</td><td>null</td><td>&quot;BYBBYBB&quot;</td><td>&quot;1130A&quot;</td><td>&quot;0100P&quot;</td><td>&quot;TAN&quot;</td><td>0</td><td>0</td><td>&quot;-&quot;</td><td>0</td><td>null</td><td>null</td><td>null</td><td>null</td><td>null</td></tr><tr><td>1413656420</td><td>&quot;T672371C&quot;</td><td>&quot;NY&quot;</td><td>&quot;PAS&quot;</td><td>&quot;02/04/2017&quot;</td><td>40</td><td>&quot;TAXI&quot;</td><td>&quot;TOYOT&quot;</td><td>&quot;P&quot;</td><td>59630</td><td>73470</td><td>82230</td><td>20170531</td><td>73</td><td>73</td><td>73</td><td>960758</td><td>&quot;0073&quot;</td><td>&quot;0000&quot;</td><td>&quot;0525A&quot;</td><td>null</td><td>&quot;K&quot;</td><td>&quot;F&quot;</td><td>&quot;279&quot;</td><td>&quot;MCDOUGAL ST&quot;</td><td>null</td><td>0</td><td>408</td><td>&quot;F1&quot;</td><td>null</td><td>&quot;BBBBBBB&quot;</td><td>&quot;ALL&quot;</td><td>&quot;ALL&quot;</td><td>&quot;BLK&quot;</td><td>0</td><td>2015</td><td>&quot;-&quot;</td><td>0</td><td>null</td><td>null</td><td>null</td><td>null</td><td>null</td></tr><tr><td>&hellip;</td><td>&hellip;</td><td>&hellip;</td><td>&hellip;</td><td>&hellip;</td><td>&hellip;</td><td>&hellip;</td><td>&hellip;</td><td>&hellip;</td><td>&hellip;</td><td>&hellip;</td><td>&hellip;</td><td>&hellip;</td><td>&hellip;</td><td>&hellip;</td><td>&hellip;</td><td>&hellip;</td><td>&hellip;</td><td>&hellip;</td><td>&hellip;</td><td>&hellip;</td><td>&hellip;</td><td>&hellip;</td><td>&hellip;</td><td>&hellip;</td><td>&hellip;</td><td>&hellip;</td><td>&hellip;</td><td>&hellip;</td><td>&hellip;</td><td>&hellip;</td><td>&hellip;</td><td>&hellip;</td><td>&hellip;</td><td>&hellip;</td><td>&hellip;</td><td>&hellip;</td><td>&hellip;</td><td>&hellip;</td><td>&hellip;</td><td>&hellip;</td><td>&hellip;</td><td>&hellip;</td></tr><tr><td>1408956640</td><td>&quot;HJV89999&quot;</td><td>&quot;NY&quot;</td><td>&quot;COM&quot;</td><td>&quot;11/08/2033&quot;</td><td>40</td><td>&quot;SUBN&quot;</td><td>null</td><td>&quot;P&quot;</td><td>0</td><td>40404</td><td>40404</td><td>20181127</td><td>33</td><td>33</td><td>33</td><td>956000</td><td>&quot;0033&quot;</td><td>&quot;0000&quot;</td><td>&quot;0230A&quot;</td><td>null</td><td>&quot;NY&quot;</td><td>&quot;F&quot;</td><td>&quot;17757&quot;</td><td>&quot;AUDUBON&quot;</td><td>null</td><td>0</td><td>408</td><td>&quot;F2&quot;</td><td>null</td><td>&quot;BBBBBBB&quot;</td><td>&quot;ALL&quot;</td><td>&quot;ALL&quot;</td><td>&quot;GRAY&quot;</td><td>0</td><td>2001</td><td>&quot;-&quot;</td><td>0</td><td>null</td><td>null</td><td>null</td><td>null</td><td>null</td></tr><tr><td>1418443001</td><td>&quot;HJB7078&quot;</td><td>&quot;NY&quot;</td><td>&quot;PAS&quot;</td><td>&quot;03/16/2041&quot;</td><td>61</td><td>&quot;SDN&quot;</td><td>&quot;HONDA&quot;</td><td>&quot;P&quot;</td><td>68720</td><td>26550</td><td>76950</td><td>20180731</td><td>41</td><td>41</td><td>41</td><td>954573</td><td>&quot;0041&quot;</td><td>&quot;0000&quot;</td><td>&quot;0254A&quot;</td><td>null</td><td>&quot;BX&quot;</td><td>&quot;O&quot;</td><td>&quot;948&quot;</td><td>&quot;TIFFANY ST&quot;</td><td>null</td><td>0</td><td>408</td><td>&quot;E2&quot;</td><td>null</td><td>&quot;BBBBBBB&quot;</td><td>&quot;ALL&quot;</td><td>&quot;ALL&quot;</td><td>&quot;GRY&quot;</td><td>0</td><td>2005</td><td>&quot;-&quot;</td><td>0</td><td>null</td><td>null</td><td>null</td><td>null</td><td>null</td></tr><tr><td>1420650191</td><td>&quot;83460MH&quot;</td><td>&quot;NY&quot;</td><td>&quot;COM&quot;</td><td>&quot;02/22/2047&quot;</td><td>46</td><td>&quot;DELV&quot;</td><td>&quot;FRUEH&quot;</td><td>&quot;P&quot;</td><td>0</td><td>0</td><td>0</td><td>0</td><td>109</td><td>109</td><td>109</td><td>954891</td><td>&quot;0109&quot;</td><td>&quot;0000&quot;</td><td>&quot;0256A&quot;</td><td>null</td><td>&quot;Q&quot;</td><td>null</td><td>&quot;144-30&quot;</td><td>null</td><td>null</td><td>0</td><td>408</td><td>&quot;F1&quot;</td><td>null</td><td>&quot;BBBBBBB&quot;</td><td>&quot;ALL&quot;</td><td>&quot;ALL&quot;</td><td>&quot;BROWN&quot;</td><td>0</td><td>2016</td><td>&quot;-&quot;</td><td>0</td><td>null</td><td>null</td><td>null</td><td>null</td><td>null</td></tr><tr><td>1412735427</td><td>&quot;HFB1171&quot;</td><td>&quot;NY&quot;</td><td>&quot;PAS&quot;</td><td>&quot;05/08/2047&quot;</td><td>40</td><td>&quot;SUBN&quot;</td><td>&quot;CHEVR&quot;</td><td>&quot;P&quot;</td><td>28500</td><td>7040</td><td>7040</td><td>20180226</td><td>47</td><td>47</td><td>808</td><td>946123</td><td>&quot;0808&quot;</td><td>&quot;0000&quot;</td><td>&quot;1020A&quot;</td><td>&quot;1015A&quot;</td><td>&quot;BX&quot;</td><td>null</td><td>null</td><td>&quot;S/O 1155 E 229…</td><td>null</td><td>0</td><td>408</td><td>&quot;D&quot;</td><td>null</td><td>&quot;BBBBBBB&quot;</td><td>&quot;ALL&quot;</td><td>&quot;ALL&quot;</td><td>&quot;BLUE&quot;</td><td>0</td><td>2016</td><td>&quot;-&quot;</td><td>4</td><td>null</td><td>null</td><td>null</td><td>null</td><td>null</td></tr><tr><td>1415802750</td><td>&quot;63523JM&quot;</td><td>&quot;NY&quot;</td><td>&quot;COM&quot;</td><td>&quot;10/19/2053&quot;</td><td>46</td><td>&quot;VAN&quot;</td><td>null</td><td>&quot;P&quot;</td><td>10210</td><td>18750</td><td>18770</td><td>0</td><td>19</td><td>19</td><td>19</td><td>935592</td><td>&quot;0019&quot;</td><td>&quot;0000&quot;</td><td>&quot;0552P&quot;</td><td>null</td><td>null</td><td>&quot;F&quot;</td><td>&quot;1578&quot;</td><td>&quot;3RD AVE&quot;</td><td>null</td><td>0</td><td>408</td><td>&quot;F1&quot;</td><td>null</td><td>&quot;BBBBBBB&quot;</td><td>&quot;ALL&quot;</td><td>&quot;ALL&quot;</td><td>&quot;BRN&quot;</td><td>0</td><td>0</td><td>&quot;-&quot;</td><td>0</td><td>null</td><td>null</td><td>null</td><td>null</td><td>null</td></tr><tr><td>1414469330</td><td>&quot;BH82631&quot;</td><td>&quot;NY&quot;</td><td>&quot;999&quot;</td><td>&quot;11/02/2061&quot;</td><td>66</td><td>&quot;TRAI&quot;</td><td>null</td><td>&quot;S&quot;</td><td>76450</td><td>26850</td><td>26880</td><td>0</td><td>42</td><td>42</td><td>0</td><td>695292</td><td>&quot;BX03&quot;</td><td>&quot;0000&quot;</td><td>&quot;0204A&quot;</td><td>null</td><td>&quot;BX&quot;</td><td>&quot;F&quot;</td><td>&quot;1725&quot;</td><td>&quot;WEST FARMS ROA…</td><td>null</td><td>0</td><td>408</td><td>&quot;D1&quot;</td><td>null</td><td>&quot;BBBBBBB&quot;</td><td>&quot;ALL&quot;</td><td>&quot;ALL&quot;</td><td>&quot;BLACK&quot;</td><td>0</td><td>0</td><td>&quot;-&quot;</td><td>0</td><td>null</td><td>null</td><td>null</td><td>null</td><td>null</td></tr><tr><td>1411845031</td><td>&quot;22067ME&quot;</td><td>&quot;NY&quot;</td><td>&quot;COM&quot;</td><td>&quot;01/05/2062&quot;</td><td>78</td><td>&quot;VAN&quot;</td><td>&quot;ME/BE&quot;</td><td>&quot;P&quot;</td><td>10780</td><td>17330</td><td>7430</td><td>20310731</td><td>62</td><td>62</td><td>62</td><td>952393</td><td>&quot;0062&quot;</td><td>&quot;0000&quot;</td><td>&quot;1038P&quot;</td><td>null</td><td>&quot;K&quot;</td><td>&quot;F&quot;</td><td>&quot;2246&quot;</td><td>&quot;84 ST&quot;</td><td>null</td><td>0</td><td>408</td><td>&quot;K6&quot;</td><td>null</td><td>&quot;BBBBBBB&quot;</td><td>&quot;ALL&quot;</td><td>&quot;ALL&quot;</td><td>&quot;WHITE&quot;</td><td>0</td><td>2014</td><td>&quot;-&quot;</td><td>0</td><td>null</td><td>null</td><td>null</td><td>null</td><td>null</td></tr><tr><td>1406838263</td><td>&quot;FGN8849&quot;</td><td>&quot;NY&quot;</td><td>&quot;PAS&quot;</td><td>&quot;10/08/2063&quot;</td><td>27</td><td>&quot;SDN&quot;</td><td>&quot;CADIL&quot;</td><td>&quot;P&quot;</td><td>14630</td><td>96131</td><td>37180</td><td>20170225</td><td>63</td><td>63</td><td>63</td><td>960407</td><td>&quot;0063&quot;</td><td>&quot;0000&quot;</td><td>&quot;0437P&quot;</td><td>null</td><td>&quot;K&quot;</td><td>null</td><td>&quot;5400&quot;</td><td>&quot;AVE U&quot;</td><td>null</td><td>0</td><td>408</td><td>&quot;E5&quot;</td><td>null</td><td>&quot;BBBBBBB&quot;</td><td>&quot;ALL&quot;</td><td>&quot;ALL&quot;</td><td>&quot;WHITE&quot;</td><td>0</td><td>2016</td><td>&quot;-&quot;</td><td>0</td><td>null</td><td>null</td><td>null</td><td>null</td><td>null</td></tr><tr><td>1413741642</td><td>&quot;GZJ3370&quot;</td><td>&quot;NY&quot;</td><td>&quot;PAS&quot;</td><td>&quot;11/15/2063&quot;</td><td>40</td><td>&quot;SUBN&quot;</td><td>&quot;HONDA&quot;</td><td>&quot;P&quot;</td><td>28590</td><td>36590</td><td>65050</td><td>20170610</td><td>109</td><td>109</td><td>109</td><td>959974</td><td>&quot;0109&quot;</td><td>&quot;0000&quot;</td><td>&quot;1104P&quot;</td><td>null</td><td>&quot;Q&quot;</td><td>&quot;F&quot;</td><td>&quot;143-19&quot;</td><td>&quot;ASH AV&quot;</td><td>null</td><td>0</td><td>408</td><td>&quot;J2&quot;</td><td>null</td><td>&quot;BBBBBBB&quot;</td><td>&quot;ALL&quot;</td><td>&quot;ALL&quot;</td><td>&quot;BLK&quot;</td><td>0</td><td>2015</td><td>&quot;-&quot;</td><td>2</td><td>null</td><td>null</td><td>null</td><td>null</td><td>null</td></tr><tr><td>1384716543</td><td>&quot;GRA6240&quot;</td><td>&quot;NY&quot;</td><td>&quot;PAS&quot;</td><td>&quot;07/12/2069&quot;</td><td>20</td><td>&quot;SUBN&quot;</td><td>&quot;TOYOT&quot;</td><td>&quot;X&quot;</td><td>93830</td><td>64830</td><td>23330</td><td>20161001</td><td>71</td><td>71</td><td>976</td><td>100519</td><td>&quot;0976&quot;</td><td>&quot;0000&quot;</td><td>&quot;0750A&quot;</td><td>null</td><td>&quot;K&quot;</td><td>&quot;F&quot;</td><td>&quot;444&quot;</td><td>&quot;WINTHROP STREE…</td><td>null</td><td>0</td><td>408</td><td>&quot;D&quot;</td><td>null</td><td>&quot;BBBBBBB&quot;</td><td>&quot;ALL&quot;</td><td>&quot;ALL&quot;</td><td>&quot;GRAY&quot;</td><td>0</td><td>2007</td><td>&quot;-&quot;</td><td>0</td><td>null</td><td>null</td><td>null</td><td>null</td><td>null</td></tr><tr><td>1415514203</td><td>&quot;HGU9544&quot;</td><td>&quot;NY&quot;</td><td>&quot;PAS&quot;</td><td>&quot;11/15/2069&quot;</td><td>40</td><td>&quot;SUBN&quot;</td><td>&quot;JEEP&quot;</td><td>&quot;P&quot;</td><td>0</td><td>5530</td><td>0</td><td>20180624</td><td>69</td><td>69</td><td>69</td><td>935065</td><td>&quot;0069&quot;</td><td>&quot;0000&quot;</td><td>&quot;0319A&quot;</td><td>null</td><td>&quot;K&quot;</td><td>&quot;F&quot;</td><td>&quot;37&quot;</td><td>&quot;PAERDERGAT&quot;</td><td>&quot;4 ST&quot;</td><td>0</td><td>408</td><td>&quot;E2&quot;</td><td>null</td><td>&quot;BBBBBBB&quot;</td><td>&quot;ALL&quot;</td><td>&quot;ALL&quot;</td><td>&quot;BROWN&quot;</td><td>0</td><td>2011</td><td>&quot;-&quot;</td><td>0</td><td>null</td><td>null</td><td>null</td><td>null</td><td>null</td></tr><tr><td>1415995370</td><td>&quot;GPP1608&quot;</td><td>&quot;NY&quot;</td><td>&quot;PAS&quot;</td><td>&quot;11/19/2069&quot;</td><td>21</td><td>&quot;SDN&quot;</td><td>&quot;TOYOT&quot;</td><td>&quot;S&quot;</td><td>38080</td><td>40230</td><td>77740</td><td>20180605</td><td>69</td><td>69</td><td>0</td><td>980319</td><td>&quot;KS18&quot;</td><td>&quot;0000&quot;</td><td>&quot;0843A&quot;</td><td>null</td><td>&quot;K&quot;</td><td>&quot;F&quot;</td><td>&quot;1018&quot;</td><td>&quot;E 96 ST&quot;</td><td>null</td><td>0</td><td>408</td><td>&quot;D1&quot;</td><td>null</td><td>&quot;BBBYBBB&quot;</td><td>&quot;0830A&quot;</td><td>&quot;1000A&quot;</td><td>&quot;GRAY&quot;</td><td>0</td><td>2011</td><td>&quot;-&quot;</td><td>0</td><td>null</td><td>null</td><td>null</td><td>null</td><td>null</td></tr></tbody></table></div>"
      ],
      "text/plain": [
       "shape: (8_481_061, 43)\n",
       "┌────────────┬──────────┬────────────┬───────┬───┬────────────┬────────────┬───────────┬───────────┐\n",
       "│ Summons    ┆ Plate ID ┆ Registrati ┆ Plate ┆ … ┆ Violation  ┆ No         ┆ Hydrant   ┆ Double    │\n",
       "│ Number     ┆ ---      ┆ on State   ┆ Type  ┆   ┆ Descriptio ┆ Standing   ┆ Violation ┆ Parking   │\n",
       "│ ---        ┆ str      ┆ ---        ┆ ---   ┆   ┆ n          ┆ or         ┆ ---       ┆ Violation │\n",
       "│ i64        ┆          ┆ str        ┆ str   ┆   ┆ ---        ┆ Stopping   ┆ str       ┆ ---       │\n",
       "│            ┆          ┆            ┆       ┆   ┆ str        ┆ Violatio…  ┆           ┆ str       │\n",
       "│            ┆          ┆            ┆       ┆   ┆            ┆ ---        ┆           ┆           │\n",
       "│            ┆          ┆            ┆       ┆   ┆            ┆ str        ┆           ┆           │\n",
       "╞════════════╪══════════╪════════════╪═══════╪═══╪════════════╪════════════╪═══════════╪═══════════╡\n",
       "│ 5092469481 ┆ GZH7067  ┆ NY         ┆ PAS   ┆ … ┆ FAILURE TO ┆ null       ┆ null      ┆ null      │\n",
       "│            ┆          ┆            ┆       ┆   ┆ STOP AT    ┆            ┆           ┆           │\n",
       "│            ┆          ┆            ┆       ┆   ┆ RED LIGHT  ┆            ┆           ┆           │\n",
       "│ 5092451658 ┆ GZH7067  ┆ NY         ┆ PAS   ┆ … ┆ FAILURE TO ┆ null       ┆ null      ┆ null      │\n",
       "│            ┆          ┆            ┆       ┆   ┆ STOP AT    ┆            ┆           ┆           │\n",
       "│            ┆          ┆            ┆       ┆   ┆ RED LIGHT  ┆            ┆           ┆           │\n",
       "│ 4006265037 ┆ FZX9232  ┆ NY         ┆ PAS   ┆ … ┆ BUS LANE   ┆ null       ┆ null      ┆ null      │\n",
       "│            ┆          ┆            ┆       ┆   ┆ VIOLATION  ┆            ┆           ┆           │\n",
       "│ 8478629828 ┆ 66623ME  ┆ NY         ┆ COM   ┆ … ┆ 47-Double  ┆ null       ┆ null      ┆ null      │\n",
       "│            ┆          ┆            ┆       ┆   ┆ PKG-Midtow ┆            ┆           ┆           │\n",
       "│            ┆          ┆            ┆       ┆   ┆ n          ┆            ┆           ┆           │\n",
       "│ 7868300310 ┆ 37033JV  ┆ NY         ┆ COM   ┆ … ┆ 69-Failure ┆ null       ┆ null      ┆ null      │\n",
       "│            ┆          ┆            ┆       ┆   ┆ to Disp    ┆            ┆           ┆           │\n",
       "│            ┆          ┆            ┆       ┆   ┆ Muni Recpt ┆            ┆           ┆           │\n",
       "│ …          ┆ …        ┆ …          ┆ …     ┆ … ┆ …          ┆ …          ┆ …         ┆ …         │\n",
       "│ 1406838263 ┆ FGN8849  ┆ NY         ┆ PAS   ┆ … ┆ null       ┆ null       ┆ null      ┆ null      │\n",
       "│ 1413741642 ┆ GZJ3370  ┆ NY         ┆ PAS   ┆ … ┆ null       ┆ null       ┆ null      ┆ null      │\n",
       "│ 1384716543 ┆ GRA6240  ┆ NY         ┆ PAS   ┆ … ┆ null       ┆ null       ┆ null      ┆ null      │\n",
       "│ 1415514203 ┆ HGU9544  ┆ NY         ┆ PAS   ┆ … ┆ null       ┆ null       ┆ null      ┆ null      │\n",
       "│ 1415995370 ┆ GPP1608  ┆ NY         ┆ PAS   ┆ … ┆ null       ┆ null       ┆ null      ┆ null      │\n",
       "└────────────┴──────────┴────────────┴───────┴───┴────────────┴────────────┴───────────┴───────────┘"
      ]
     },
     "execution_count": 13,
     "metadata": {},
     "output_type": "execute_result"
    }
   ],
   "source": [
    "# Scanning before reading\n",
    "temp_df = pl.scan_csv(Path('data').joinpath(Path('Parking_Violations_Issued_-_Fiscal_Year_2017.csv')), ignore_errors = True)\n",
    "\n",
    "# Filtering for rows\n",
    "result_df = temp_df.filter(pl.col(['Registration State'])==\"NY\").collect()\n",
    "\n",
    "result_df"
   ]
  },
  {
   "cell_type": "code",
   "execution_count": 16,
   "id": "a4bb986e",
   "metadata": {},
   "outputs": [
    {
     "data": {
      "text/plain": [
       "(8481061, 43)"
      ]
     },
     "execution_count": 16,
     "metadata": {},
     "output_type": "execute_result"
    }
   ],
   "source": [
    "result_df.shape"
   ]
  },
  {
   "cell_type": "code",
   "execution_count": 20,
   "id": "ffa0bbac",
   "metadata": {},
   "outputs": [
    {
     "name": "stderr",
     "output_type": "stream",
     "text": [
      "<magic-timeit>:1: DtypeWarning: Columns (18,38) have mixed types. Specify dtype option on import or set low_memory=False.\n",
      "<magic-timeit>:1: DtypeWarning: Columns (18,38) have mixed types. Specify dtype option on import or set low_memory=False.\n",
      "<magic-timeit>:1: DtypeWarning: Columns (18,38) have mixed types. Specify dtype option on import or set low_memory=False.\n",
      "<magic-timeit>:1: DtypeWarning: Columns (18,38) have mixed types. Specify dtype option on import or set low_memory=False.\n",
      "<magic-timeit>:1: DtypeWarning: Columns (18,38) have mixed types. Specify dtype option on import or set low_memory=False.\n",
      "<magic-timeit>:1: DtypeWarning: Columns (18,38) have mixed types. Specify dtype option on import or set low_memory=False.\n",
      "<magic-timeit>:1: DtypeWarning: Columns (18,38) have mixed types. Specify dtype option on import or set low_memory=False.\n",
      "<magic-timeit>:1: DtypeWarning: Columns (18,38) have mixed types. Specify dtype option on import or set low_memory=False.\n"
     ]
    },
    {
     "name": "stdout",
     "output_type": "stream",
     "text": [
      "22.3 s ± 934 ms per loop (mean ± std. dev. of 7 runs, 1 loop each)\n"
     ]
    }
   ],
   "source": [
    "%%timeit\n",
    "\n",
    "df = pd.read_csv(Path('data').joinpath(Path('Parking_Violations_Issued_-_Fiscal_Year_2017.csv')))"
   ]
  },
  {
   "cell_type": "code",
   "execution_count": null,
   "id": "4b4c149c",
   "metadata": {},
   "outputs": [],
   "source": [
    "# More complex filtering using regular expression\n",
    "temp_df = pl.scan_csv(Path('data'.joinpath(Path())), ignore_errors = True)\n",
    "\n",
    "result_df = temp_df.filter(pl.col(\"Plate ID\").str.contains(r\"[a1]\")).collect()\n",
    "\n",
    "result_df.info()"
   ]
  },
  {
   "cell_type": "markdown",
   "id": "65098afb",
   "metadata": {},
   "source": [
    "With Polars we can choose if we want lazy or eagerly execution"
   ]
  },
  {
   "cell_type": "code",
   "execution_count": null,
   "id": "77595fc8",
   "metadata": {},
   "outputs": [],
   "source": [
    "%%timeit\n",
    "\n",
    "temp_df = pl.scan_csv(Path('data'.joinpath(Path())), ignore_errors = True)\n",
    "\n",
    "# Lazy selection of a particular column\n",
    "result_df = temp_df.select(['Plate ID']).collect()\n",
    "\n",
    "result_df"
   ]
  },
  {
   "cell_type": "code",
   "execution_count": null,
   "id": "183da8b7",
   "metadata": {},
   "outputs": [],
   "source": [
    "%%timeit\n",
    "\n",
    "temp_df = pl.scan_csv(Path('data'.joinpath(Path())), ignore_errors = True)\n",
    "\n",
    "# Selecting the Plate ID column\n",
    "result_df = temp_df['Plate ID']"
   ]
  },
  {
   "cell_type": "code",
   "execution_count": null,
   "id": "037c582c",
   "metadata": {},
   "outputs": [],
   "source": [
    "# Adding a column\n",
    "\n",
    "temp_df = pl.scan_csv(Path('data'.joinpath(Path())), ignore_errors = True)\n",
    "\n",
    "result_df = temp_df.with_column(pl.col(\"Plate ID\").str.lengths().alias(\"plate_id_letter_count\")).collect()\n",
    "\n",
    "result_df"
   ]
  },
  {
   "cell_type": "code",
   "execution_count": null,
   "id": "2aea7854",
   "metadata": {},
   "outputs": [],
   "source": [
    "# Groupby\n",
    "temp_df = pl.scan_csv(Path('data'.joinpath(Path())), ignore_errors = True)\n",
    "\n",
    "result_df = temp_df.groupby(\"Registration State\").agg(\n",
    "    [\n",
    "        pl.count(),\n",
    "        pl.col(\"Violation Code\").list(),\n",
    "\n",
    "    ]\n",
    ").sort('Registration State').collect()\n",
    "\n",
    "result_df"
   ]
  },
  {
   "cell_type": "code",
   "execution_count": null,
   "id": "e77d1ca0",
   "metadata": {},
   "outputs": [],
   "source": [
    "# Convert \"Issue Date\" intoa date column, \n",
    "# Then group by Registration State and perform some aggregation\n",
    "\n",
    "result_df = (temp_df\n",
    "             .with_column(pl\n",
    "                          .col(\"Issue Date\")\n",
    "                          .str.strptime(pl.Date, fmt=\"%m/%d/%Y\"))\n",
    "             .groupby(\"Registration State\")\n",
    "             .agg(\n",
    "                [pl.first(\"Issue Date\")]\n",
    "                )\n",
    "             .sort('Registration State'))\n",
    "\n",
    "\n",
    "result_df.collect()"
   ]
  },
  {
   "cell_type": "markdown",
   "id": "66bcc7ad-c50a-44b4-9432-fd443967f6e5",
   "metadata": {},
   "source": [
    "# Object-oriented programming in Python\n",
    "\n"
   ]
  },
  {
   "cell_type": "markdown",
   "id": "501b2fa2-c88e-47ea-b1b6-f8631357cfb8",
   "metadata": {},
   "source": [
    "## Classes\n",
    "\n",
    "A class is a blueprint that helps to define a data-structure together with actions to be performed on this data.\n",
    "\n",
    "Let's build a class for cats as an example."
   ]
  },
  {
   "cell_type": "code",
   "execution_count": 1,
   "id": "1b6f3d5b-3cbe-4448-93fc-c4e96266708b",
   "metadata": {},
   "outputs": [],
   "source": [
    "class Cat:\n",
    "    pass"
   ]
  },
  {
   "cell_type": "markdown",
   "id": "50d5730f-8840-47b8-a078-5d0642533148",
   "metadata": {},
   "source": [
    "To define attributes all cats must have you use the ` __init()__ ` method. Every time an object is created this is run. It always needs $self$ as first parameter."
   ]
  },
  {
   "cell_type": "code",
   "execution_count": null,
   "id": "7d278a39-eb57-411f-9487-ec31a55d121d",
   "metadata": {},
   "outputs": [],
   "source": [
    "class Cat:\n",
    "    def __init__(self, name, age):\n",
    "        self.name = name\n",
    "        self.age = age\n",
    "    "
   ]
  },
  {
   "cell_type": "markdown",
   "id": "13f8a61c-1070-4575-bdb8-9f6e1b507a83",
   "metadata": {},
   "source": [
    "The attributes defined in ` __init()__ ` are specific to the individual instance of a cat. You can also define attributes that are the same for all instances."
   ]
  },
  {
   "cell_type": "code",
   "execution_count": 1,
   "id": "cb60b243-dba1-4384-b60b-208cbb76e1b8",
   "metadata": {},
   "outputs": [],
   "source": [
    "class Cat:\n",
    "    # class attribute\n",
    "    species = \"Felis catus\"\n",
    "\n",
    "    def __init__(self, name, age):\n",
    "        self.name = name\n",
    "        self.age = age"
   ]
  },
  {
   "cell_type": "markdown",
   "id": "97b422b4-fd05-4d8f-9a71-7207cfaae317",
   "metadata": {},
   "source": [
    "Let's create some cats:"
   ]
  },
  {
   "cell_type": "code",
   "execution_count": 5,
   "id": "57b7b727-4c5a-4a46-8d98-335292ccf3bf",
   "metadata": {},
   "outputs": [
    {
     "name": "stdout",
     "output_type": "stream",
     "text": [
      "Cat names Pussy, Mieze\n"
     ]
    }
   ],
   "source": [
    "a = Cat(name=\"Kitty\", age=5)\n",
    "b = Cat(name=\"Mieze\", age=13)\n",
    "\n",
    "print(f\"Cat names: {a.name}, {b.name}\")"
   ]
  },
  {
   "cell_type": "markdown",
   "id": "982a964e-27b6-4219-8acd-bf592cb36c55",
   "metadata": {},
   "source": [
    "Let's now add some actions our cats can perform."
   ]
  },
  {
   "cell_type": "code",
   "execution_count": 6,
   "id": "0be1f1b2-ce1f-4659-b4df-eae152216728",
   "metadata": {},
   "outputs": [],
   "source": [
    "class Cat:\n",
    "    # class attribute\n",
    "    species = \"Felis catus\"\n",
    "\n",
    "    def __init__(self, name, age):\n",
    "        self.name = name\n",
    "        self.age = age\n",
    "    \n",
    "    def description(self):\n",
    "        return f\"{self.name} is {self.age} years old\"\n",
    "\n",
    "    def speak(self, sound):\n",
    "        return f\"{self.name} says {sound}\""
   ]
  },
  {
   "cell_type": "code",
   "execution_count": 8,
   "id": "85667852-cd29-43cc-90ed-9cccea553312",
   "metadata": {},
   "outputs": [
    {
     "name": "stdout",
     "output_type": "stream",
     "text": [
      "Pussy is 5 years old\n",
      "Mieze says Miau\n"
     ]
    }
   ],
   "source": [
    "a = Cat(name=\"Pussy\", age=5)\n",
    "b = Cat(name=\"Mieze\", age=13)\n",
    "\n",
    "print(a.description())\n",
    "print(b.speak(\"Miau\"))"
   ]
  },
  {
   "cell_type": "markdown",
   "id": "22ecc60b-0a3c-4165-9f10-66a6140efd5b",
   "metadata": {},
   "source": [
    "Tailoring our cat class by using inheritance"
   ]
  },
  {
   "cell_type": "code",
   "execution_count": 9,
   "id": "0a16bb66-2515-4649-ae99-6491dbaeede5",
   "metadata": {},
   "outputs": [],
   "source": [
    "class Siamese(Cat):\n",
    "    def speak(self, sound=\"Maaauuuu\"):\n",
    "        return f\"{self.name} says {sound}\"\n",
    "\n",
    "class Persian(Cat):\n",
    "    def speak(self, sound=\"Miiauhhhh\"):\n",
    "        return f\"{self.name} says {sound}\""
   ]
  },
  {
   "cell_type": "code",
   "execution_count": 10,
   "id": "26db6431-87c0-4aad-a9cf-1e8001f469ac",
   "metadata": {},
   "outputs": [
    {
     "name": "stdout",
     "output_type": "stream",
     "text": [
      "Pussy is 5 years old\n",
      "Mieze says Miiauhhhh\n"
     ]
    }
   ],
   "source": [
    "a = Siamese(name=\"Pussy\", age=5)\n",
    "b = Persian(name=\"Mieze\", age=13)\n",
    "\n",
    "print(a.description())\n",
    "print(b.speak())"
   ]
  },
  {
   "cell_type": "markdown",
   "id": "e2e5ec8a-178e-46b9-82e7-6002aa1a7f6b",
   "metadata": {},
   "source": [
    "You can also call the parent classes methods"
   ]
  },
  {
   "cell_type": "code",
   "execution_count": 11,
   "id": "fb14725a-2c95-4de1-a985-5dfc39435d40",
   "metadata": {},
   "outputs": [],
   "source": [
    "class BritishShorthair(Cat):\n",
    "    def speak(self, sound=\"MauMau\"):\n",
    "        return super().speak(sound)"
   ]
  },
  {
   "cell_type": "code",
   "execution_count": 13,
   "id": "77d8db11-e78f-459b-aa18-83d343dfa2b2",
   "metadata": {},
   "outputs": [
    {
     "data": {
      "text/plain": [
       "'Lena says MauMau'"
      ]
     },
     "execution_count": 13,
     "metadata": {},
     "output_type": "execute_result"
    }
   ],
   "source": [
    "c = BritishShorthair(\"Lena\", 2)\n",
    "c.speak()"
   ]
  }
 ],
 "metadata": {
  "kernelspec": {
   "display_name": "Python 3 (ipykernel)",
   "language": "python",
   "name": "python3"
  },
  "language_info": {
   "codemirror_mode": {
    "name": "ipython",
    "version": 3
   },
   "file_extension": ".py",
   "mimetype": "text/x-python",
   "name": "python",
   "nbconvert_exporter": "python",
   "pygments_lexer": "ipython3",
   "version": "3.11.5"
  }
 },
 "nbformat": 4,
 "nbformat_minor": 5
}
