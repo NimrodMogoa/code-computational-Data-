{
 "cells": [
  {
   "cell_type": "markdown",
   "id": "d6ffb86d-8f54-47e5-b7f7-9a3217fa1c2c",
   "metadata": {},
   "source": [
    "# Session 1 - Introduction to Pandas\n",
    "\n",
    "Pandas is an open source Python package that is most widely used for data science/data analysis and machine learning tasks. It is built on top of another package named Numpy, which provides support for multi-dimensional arrays.\n",
    "\n",
    "https://pandas.pydata.org/\n",
    "\n",
    "- Data cleansing\n",
    "- Data fill\n",
    "- Data normalization\n",
    "- Merges and joins\n",
    "- Data visualization\n",
    "- Statistical analysis\n",
    "- Data inspection\n",
    "- Loading and saving data\n",
    "\n",
    "Before it can be used it needs to be imported."
   ]
  },
  {
   "cell_type": "code",
   "execution_count": 2,
   "id": "727978c8-0a12-4656-bd63-66a07f0a4811",
   "metadata": {},
   "outputs": [],
   "source": [
    "# Put the needed imports here\n",
    "import pandas as pd\n",
    "import numpy as np\n",
    "import datetime as dt"
   ]
  },
  {
   "cell_type": "markdown",
   "id": "f2de7fcc-765a-40f0-8587-0847e3cf69ba",
   "metadata": {
    "tags": []
   },
   "source": [
    "## Series\n",
    "\n",
    "On the most basic level Pandas is built on a datastructure called Series.\n",
    "\n",
    "A series is used to hold 1-dimentional data similar to a list.\n",
    "\n",
    "Other than a list which only holds the data a Series holds some additional information:\n",
    "- Name\n",
    "- Index"
   ]
  },
  {
   "cell_type": "code",
   "execution_count": 4,
   "id": "8da4e998-2448-4fac-ad8e-f39cc40652a0",
   "metadata": {},
   "outputs": [
    {
     "name": "stdout",
     "output_type": "stream",
     "text": [
      "0    40\n",
      "1    34\n",
      "2    16\n",
      "3    14\n",
      "4    12\n",
      "5    10\n",
      "Name: ages, dtype: int64\n"
     ]
    }
   ],
   "source": [
    "# Create a series object holding the ages of you and your family and display it\n",
    "\n",
    "Ages = pd.Series([40, 34, 16, 14, 12, 10],\n",
    "                         name = 'ages')\n",
    "print(Ages)"
   ]
  },
  {
   "cell_type": "markdown",
   "id": "03afd148-adac-488d-b7c1-fd253f1712cf",
   "metadata": {},
   "source": [
    "The index can be almost anything. Also non-numeric."
   ]
  },
  {
   "cell_type": "code",
   "execution_count": 3,
   "id": "ca053801-f6dc-42fa-8429-a880572e1592",
   "metadata": {},
   "outputs": [
    {
     "name": "stdout",
     "output_type": "stream",
     "text": [
      "Marcus    40\n",
      "Carmel    34\n",
      "Layla     16\n",
      "Mia       14\n",
      "Laurin    12\n",
      "Lea       10\n",
      "Name: ages, dtype: int64\n"
     ]
    }
   ],
   "source": [
    "# Now recreate the same series, but use the persons' names as index. Display the series\n",
    "Ages2 = pd.Series([40, 34, 16, 14, 12, 10],\n",
    "                         name = 'ages',\n",
    "                         index = ['Marcus', 'Carmel', 'Layla', 'Mia', 'Laurin', 'Lea'])\n",
    "print(Ages2)"
   ]
  },
  {
   "cell_type": "markdown",
   "id": "2492e4cb-5dd9-4bca-af19-9c183bf6f301",
   "metadata": {},
   "source": [
    "To access elements we can use the index."
   ]
  },
  {
   "cell_type": "code",
   "execution_count": 4,
   "id": "63e63c23-c0c0-4c79-902e-ca63d1903e70",
   "metadata": {},
   "outputs": [
    {
     "name": "stdout",
     "output_type": "stream",
     "text": [
      "Age of the second person on the list: 34\n",
      "Layla's age: 16\n"
     ]
    }
   ],
   "source": [
    "# Complete the following\n",
    "print(f\"Age of the second person on the list: {Ages[1]}\")\n",
    "print(f\"Layla's age: {Ages2['Layla']}\")"
   ]
  },
  {
   "cell_type": "markdown",
   "id": "a39d5c18-e108-400e-82e6-6053a1952f3b",
   "metadata": {},
   "source": [
    "Also a boolean map can be used to access or filter certain elements."
   ]
  },
  {
   "cell_type": "code",
   "execution_count": 5,
   "id": "a3b2a4ca-501a-4ee2-bd15-b328245b4b48",
   "metadata": {},
   "outputs": [
    {
     "name": "stdout",
     "output_type": "stream",
     "text": [
      "Carmel    34\n",
      "Layla     16\n",
      "Mia       14\n",
      "Lea       10\n",
      "Name: ages, dtype: int64\n"
     ]
    }
   ],
   "source": [
    "# Use a boolean map to access the ages of all male family members, display the names and ages\n",
    "female = [False, True, True, True, False, True]\n",
    "\n",
    "Females = Ages2[female]\n",
    "print(Females)"
   ]
  },
  {
   "cell_type": "markdown",
   "id": "ff5c123e-32b2-4029-bc11-f4c951fbf8ba",
   "metadata": {},
   "source": [
    "### Aggregations\n",
    "\n",
    "Aggregation methods collapse the values of a Series down to a scalar.\n",
    "\n",
    "They can be things like:\n",
    "- How many (count)\n",
    "- Total (sum)\n",
    "- Average (mean)"
   ]
  },
  {
   "cell_type": "markdown",
   "id": "a6e82f53-b701-4161-a1ee-3a36e40d8c63",
   "metadata": {},
   "source": [
    "Pandas Series give many aggregate functions and some aggregate properties.\n",
    "\n",
    "Here a list of the most common ones (referencing the Series object \"sample\"):\n",
    "\n",
    "- `sample.mean()` Returns the average value.\n",
    "- `sample.is_unique` Returns if the values are unique\n",
    "- `sample.quantile(q)` Returns the 50% quantile value if q is not set. If q is set it returns the q-th quantile or quantiles.\n",
    "- `sample.count()` Returns the number of values\n",
    "- `sample.min()` Returns the minimum\n",
    "- `sample.max()` Returns the maximum\n",
    "- `sample.median()` Returns the median value\n",
    "- `sample.std()` Returns the standard deviation\n",
    "- `sample.var()` Returns the variance\n",
    "- `sample.skew()` Returns the skew\n",
    "- `sample.kurtosis()` Returns the excess kurtosis (the kurtosis over or under 3)\n",
    "- `size` Returns the number of items in Series"
   ]
  },
  {
   "cell_type": "code",
   "execution_count": 58,
   "id": "4ff243dc-ca54-4f22-8c8c-69b85b448abe",
   "metadata": {},
   "outputs": [
    {
     "name": "stdout",
     "output_type": "stream",
     "text": [
      "Mean: 21.0\n",
      "Unique: True\n",
      "50% Quantile: 15.0\n",
      "90% Quantile: 37.0\n",
      "10% and 90% Quantile: [11. 37.]\n",
      "Count: 6\n",
      "Maximum: 40\n",
      "Minimum: 10\n",
      "Median: 15.0\n",
      "Standard Deviation: 12.70\n",
      "Variance: 161.20\n",
      "Skew: 0.96\n",
      "Kurtosis: -1.32\n",
      "Size: 6\n"
     ]
    }
   ],
   "source": [
    "# Display the values of the given aggregations for the series. Fill in the blanks\n",
    "\n",
    "print(f\"Mean: {Ages2.mean()}\")\n",
    "print(f\"Unique: {Ages2.is_unique}\")\n",
    "print(f\"50% Quantile: {Ages2.quantile()}\")\n",
    "print(f\"90% Quantile: {Ages2.quantile(0.9)}\")\n",
    "print(f\"10% and 90% Quantile: {Ages2.quantile([0.1, 0.9]).values}\")\n",
    "print(f\"Count: {Ages2.count()}\")\n",
    "print(f\"Maximum: {Ages2.max()}\")\n",
    "print(f\"Minimum: {Ages2.min()}\")\n",
    "print(f\"Median: {Ages2.median()}\")\n",
    "print(f\"Standard Deviation: {Ages2.std():.2f}\")\n",
    "print(f\"Variance: {Ages2.var():.2f}\")\n",
    "print(f\"Skew: {Ages2.skew():.2f}\")\n",
    "print(f\"Kurtosis: {Ages2.kurtosis():.2f}\")\n",
    "print(f\"Size: {Ages2.size}\")"
   ]
  },
  {
   "cell_type": "markdown",
   "id": "edfd901e",
   "metadata": {},
   "source": [
    "#### Kurtosis\n",
    "\n",
    "Kurtosis is a measure of the tailedness of a distribution. Tailedness is how often outliers occur. Excess kurtosis is the tailedness of a distribution relative to a normal distribution.\n",
    "\n",
    "- Distributions with medium kurtosis (medium tails) are mesokurtic.\n",
    "- Distributions with low kurtosis (thin tails) are platykurtic.\n",
    "- Distributions with high kurtosis (fat tails) are leptokurtic.\n",
    "\n",
    "Tails are the tapering ends on either side of a distribution. They represent the probability or frequency of values that are extremely high or low compared to the mean. In other words, tails represent how often outliers occur.\n"
   ]
  },
  {
   "attachments": {
    "df4f82f1-2c48-48bd-af00-d5696a5c92d4.jpg": {
     "image/jpeg": "[encoded data removed]"
    }
   },
   "cell_type": "markdown",
   "id": "bd8f96f0",
   "metadata": {},
   "source": [
    "![The-difference-between-skewness-and-kurtosis copy.jpg](attachment:df4f82f1-2c48-48bd-af00-d5696a5c92d4.jpg)"
   ]
  },
  {
   "cell_type": "markdown",
   "id": "80914665",
   "metadata": {},
   "source": [
    "#### Skew\n",
    "\n",
    "Skewness is a measure of the asymmetry of a distribution. A distribution is asymmetrical when its left and right side are not mirror images.\n",
    "\n",
    "A distribution can have right (or positive), left (or negative), or zero skewness. A right-skewed distribution is longer on the right side of its peak, and a left-skewed distribution is longer on the left side of its peak.\n",
    "\n",
    "- Right skew: mean > median\n",
    "- Left skew: mean < median"
   ]
  },
  {
   "attachments": {
    "465f9b57-e5b7-40bc-9a3b-00cd1a50ef9f.jpg": {
     "image/jpeg": "[encoded data removed]"
    }
   },
   "cell_type": "markdown",
   "id": "cdb40135",
   "metadata": {},
   "source": [
    "![Skewness-of-a-distribution copy.jpg](attachment:465f9b57-e5b7-40bc-9a3b-00cd1a50ef9f.jpg)"
   ]
  },
  {
   "cell_type": "markdown",
   "id": "16e56676-acfc-4229-ad95-79faaf04e5a6",
   "metadata": {},
   "source": [
    "#### Standard Deviation\n",
    "\n",
    "The standard deviation is the average amount of variability in your dataset. It tells you, on average, how far each value lies from the mean.\n",
    "\n",
    "A high standard deviation means that values are generally far from the mean, while a low standard deviation indicates that values are clustered close to the mean.\n",
    "\n",
    "In normal distributions, data is symmetrically distributed with no skew. Most values cluster around a central region, with values tapering off as they go further away from the center. The standard deviation tells you how spread out from the center of the distribution your data is on average.\n",
    "\n",
    "The empirical rule, or the 68-95-99.7 rule, tells you where your values lie:\n",
    "\n",
    "- Around 68% of scores are within 1 standard deviation of the mean,\n",
    "- Around 95% of scores are within 2 standard deviations of the mean,\n",
    "- Around 99.7% of scores are within 3 standard deviations of the mean."
   ]
  },
  {
   "attachments": {
    "7062d863-f32b-475b-a4d5-21ea80e14fbf.jpg": {
     "image/jpeg": "[encoded data removed]"
    }
   },
   "cell_type": "markdown",
   "id": "0b57e4ba-9ddc-47f9-885a-95231d20b73f",
   "metadata": {},
   "source": [
    "![standard-deviation-in-normal-distributions copy.jpg](attachment:7062d863-f32b-475b-a4d5-21ea80e14fbf.jpg)"
   ]
  },
  {
   "cell_type": "markdown",
   "id": "7da3ffa4-e9bd-4517-a3c0-30eacee073bc",
   "metadata": {},
   "source": [
    "### Sorting\n",
    "\n",
    "There are two easy methods for sorting a Series by either the values or the index:\n",
    "\n",
    "`sample.sort_values(ascending=True)` sorts the Series by its values.\n",
    "\n",
    "`sample.sort_index(ascending=True)` sorts the Series by its index."
   ]
  },
  {
   "cell_type": "code",
   "execution_count": 9,
   "id": "967e652c-2fc3-4fe8-9507-eb58c61982d0",
   "metadata": {},
   "outputs": [
    {
     "name": "stdout",
     "output_type": "stream",
     "text": [
      "Original:\n",
      "Marcus    40\n",
      "Carmel    34\n",
      "Layla     16\n",
      "Mia       14\n",
      "Laurin    12\n",
      "Lea       10\n",
      "Name: ages, dtype: int64\n",
      "\n",
      "Sorted by values ascending:\n",
      "Lea       10\n",
      "Laurin    12\n",
      "Mia       14\n",
      "Layla     16\n",
      "Carmel    34\n",
      "Marcus    40\n",
      "Name: ages, dtype: int64\n",
      "\n",
      "Sorted by index decending:\n",
      "Mia       14\n",
      "Marcus    40\n",
      "Lea       10\n",
      "Layla     16\n",
      "Laurin    12\n",
      "Carmel    34\n",
      "Name: ages, dtype: int64\n"
     ]
    }
   ],
   "source": [
    "print(f\"Original:\\n{Ages2}\")\n",
    "print(f\"\\nSorted by values ascending:\\n{Ages2.sort_values()}\")\n",
    "print(f\"\\nSorted by index decending:\\n{Ages2.sort_index(ascending=False)}\")"
   ]
  },
  {
   "cell_type": "markdown",
   "id": "96e3b21e-a810-4a9a-84f2-c1e1a8220d8c",
   "metadata": {},
   "source": [
    "### Math operations and index alignment\n",
    "\n",
    "You can apply math operations on a Series and a Scalar as well as on two Series."
   ]
  },
  {
   "cell_type": "code",
   "execution_count": 10,
   "id": "a308b377-f904-4952-ad4e-d0ac41c271ad",
   "metadata": {},
   "outputs": [
    {
     "name": "stdout",
     "output_type": "stream",
     "text": [
      "0    10\n",
      "1    20\n",
      "2    30\n",
      "Name: s1, dtype: int64\n",
      "0    35\n",
      "1    44\n",
      "2    53\n",
      "Name: s2, dtype: int64\n"
     ]
    }
   ],
   "source": [
    "s1 = pd.Series([10, 20, 30], name='s1')\n",
    "s2 = pd.Series([35, 44, 53], name='s2')\n",
    "print(s1)\n",
    "print(s2)"
   ]
  },
  {
   "cell_type": "code",
   "execution_count": 11,
   "id": "3fe12291-bea3-4dcc-b27b-27a029424b99",
   "metadata": {},
   "outputs": [
    {
     "data": {
      "text/plain": [
       "0    45\n",
       "1    64\n",
       "2    83\n",
       "dtype: int64"
      ]
     },
     "execution_count": 11,
     "metadata": {},
     "output_type": "execute_result"
    }
   ],
   "source": [
    "s1 + s2"
   ]
  },
  {
   "cell_type": "code",
   "execution_count": 12,
   "id": "b3725078-4c09-4444-b8ba-62f859b7be72",
   "metadata": {},
   "outputs": [
    {
     "data": {
      "text/plain": [
       "0    20\n",
       "1    30\n",
       "2    40\n",
       "Name: s1, dtype: int64"
      ]
     },
     "execution_count": 12,
     "metadata": {},
     "output_type": "execute_result"
    }
   ],
   "source": [
    "s1 + 10"
   ]
  },
  {
   "cell_type": "code",
   "execution_count": 13,
   "id": "71995e72-ed13-4137-8c09-96367748e3e1",
   "metadata": {},
   "outputs": [
    {
     "data": {
      "text/plain": [
       "0     350\n",
       "1     880\n",
       "2    1590\n",
       "dtype: int64"
      ]
     },
     "execution_count": 13,
     "metadata": {},
     "output_type": "execute_result"
    }
   ],
   "source": [
    "s1 * s2"
   ]
  },
  {
   "cell_type": "code",
   "execution_count": 14,
   "id": "17201fc7-e3b4-4522-a3ba-bae1d4552ec8",
   "metadata": {},
   "outputs": [
    {
     "data": {
      "text/plain": [
       "0    0.285714\n",
       "1    0.454545\n",
       "2    0.566038\n",
       "dtype: float64"
      ]
     },
     "execution_count": 14,
     "metadata": {},
     "output_type": "execute_result"
    }
   ],
   "source": [
    "s1 / s2"
   ]
  },
  {
   "cell_type": "code",
   "execution_count": 15,
   "id": "c792beaf-2018-47a3-bc6a-a2085919343b",
   "metadata": {},
   "outputs": [
    {
     "data": {
      "text/plain": [
       "0     5\n",
       "1    15\n",
       "2    25\n",
       "Name: s1, dtype: int64"
      ]
     },
     "execution_count": 15,
     "metadata": {},
     "output_type": "execute_result"
    }
   ],
   "source": [
    "s1 - 5"
   ]
  },
  {
   "cell_type": "markdown",
   "id": "ad86e4a2-7752-4563-a59c-de9894ddaea6",
   "metadata": {},
   "source": [
    "**When you operate with two Series be careful with the indexes.**\n",
    "\n",
    "Pandas will align the index before performing the operation. This will take each index entry in the left Series and match it up with every entry with the same name in the index of the right Series.\n",
    "\n",
    "Because of this make sure that index values are:\n",
    "- unique\n",
    "- common to both series"
   ]
  },
  {
   "cell_type": "code",
   "execution_count": 16,
   "id": "1c9a5263-47fd-4e2d-9234-d7f885deeccd",
   "metadata": {},
   "outputs": [
    {
     "name": "stdout",
     "output_type": "stream",
     "text": [
      "1    10\n",
      "2    20\n",
      "2    30\n",
      "Name: s1, dtype: int64\n",
      "2    35\n",
      "2    44\n",
      "4    53\n",
      "Name: s2, dtype: int64\n"
     ]
    }
   ],
   "source": [
    "s1 = pd.Series([10, 20, 30], name='s1', index=[1, 2, 2])\n",
    "s2 = pd.Series([35, 44, 53], name='s2', index=[2, 2, 4])\n",
    "print(s1)\n",
    "print(s2)"
   ]
  },
  {
   "cell_type": "code",
   "execution_count": 17,
   "id": "3b82a8cf-d190-412b-978b-88b054f55683",
   "metadata": {},
   "outputs": [
    {
     "data": {
      "text/plain": [
       "1     NaN\n",
       "2    55.0\n",
       "2    64.0\n",
       "2    65.0\n",
       "2    74.0\n",
       "4     NaN\n",
       "dtype: float64"
      ]
     },
     "execution_count": 17,
     "metadata": {},
     "output_type": "execute_result"
    }
   ],
   "source": [
    "s1 + s2"
   ]
  },
  {
   "cell_type": "markdown",
   "id": "c6d316a3-cbbb-4aba-97d0-4e747a20dfce",
   "metadata": {},
   "source": [
    "For each of these math operators there is also a method available."
   ]
  },
  {
   "cell_type": "code",
   "execution_count": 18,
   "id": "e4d47be6-17d5-46fe-ab64-552bd1b4c411",
   "metadata": {},
   "outputs": [
    {
     "data": {
      "text/plain": [
       "1     NaN\n",
       "2    55.0\n",
       "2    64.0\n",
       "2    65.0\n",
       "2    74.0\n",
       "4     NaN\n",
       "dtype: float64"
      ]
     },
     "execution_count": 18,
     "metadata": {},
     "output_type": "execute_result"
    }
   ],
   "source": [
    "s1.add(s2)"
   ]
  },
  {
   "cell_type": "markdown",
   "id": "75694a72-4701-46e4-9e52-a77382672dbf",
   "metadata": {},
   "source": [
    "#### Table of operators and methods\n",
    "\n",
    "| Operator | Method | Description |\n",
    "|---|---|---|\n",
    "| `s1 + s2` | `s1.add(s2)` | Addition |\n",
    "| `s1 - s2` | `s1.sub(s2)` | Subtraction |\n",
    "| `s1 * s2` | `s1.mul(s2)` | Multiplication |\n",
    "| `s1 / s2` | `s1.div(s2)` | Division |\n",
    "| `s1 % s2` | `s1.mod(s2)` | Modulo |\n",
    "| `s1 ** s2` | `s1.pow(s2)` | Exponential power |\n",
    "| `s1 == s2` | `s1.eq(s2)` | Elementwise equals |\n",
    "| `s1 != s2` | `s1.ne(s2)` | Elementwise not equals |\n",
    "| `s1 > s2` | `s1.gt(s2)` | Elementwise greater than |\n",
    "| `s1 >= s2` | `s1.ge(s2)` | Elementwise greater than or equal |\n",
    "| `s1 < s2` | `s1.lt(s2)` | Elementwise less than |\n",
    "| `s1 <= s2` | `s1.le(s2)` | Elementwise less than or equal |"
   ]
  },
  {
   "cell_type": "markdown",
   "id": "235c6833-0cca-49cf-a8e0-6b3be597cc42",
   "metadata": {},
   "source": [
    "### Plotting\n",
    "\n",
    "https://pandas.pydata.org/docs/reference/api/pandas.Series.plot.html"
   ]
  },
  {
   "cell_type": "code",
   "execution_count": 19,
   "id": "dc7b40d4-3995-4bd7-9f63-c82eead22d5a",
   "metadata": {},
   "outputs": [
    {
     "data": {
      "image/png": "[encoded data removed]",
      "text/plain": [
       "<Figure size 640x480 with 1 Axes>"
      ]
     },
     "metadata": {},
     "output_type": "display_data"
    }
   ],
   "source": [
    "plt = Ages2.sort_index(ascending=True).plot(title = \"Ages\")"
   ]
  },
  {
   "cell_type": "markdown",
   "id": "aec6281b-c0cc-4bdc-9ad2-8236b9b8c3b0",
   "metadata": {
    "tags": []
   },
   "source": [
    "## Dataframe\n",
    "\n",
    "The Dataframe is what you will work of most when working with Pandas. It is very similar to a spreadsheet. You can also think of it as a combination of multiple Series (the columns) with a common index.\n",
    "\n",
    "A Dataframe consists of:\n",
    "- columns: the column labels (like headers in a spreadsheet)\n",
    "- index: the row index similar to a Series\n",
    "- values: the actual data"
   ]
  },
  {
   "cell_type": "markdown",
   "id": "aa5837ab-58cc-4086-983c-3bed9f8d3a4a",
   "metadata": {
    "tags": []
   },
   "source": [
    "### Creating Dataframes from Python objects\n",
    "\n",
    "Dataframes can be created by loading data from files and databases as well as from other Python data structures. One common way is to use a dictionary as basis."
   ]
  },
  {
   "cell_type": "code",
   "execution_count": 20,
   "id": "593e7875-09be-44af-9d2d-0119ea7e4abd",
   "metadata": {},
   "outputs": [
    {
     "data": {
      "text/plain": [
       "{'randomValue': array([0.87655451, 0.03416306, 0.792877  , 0.01292911, 0.19239136]),\n",
       " 'someText': ['I', 'love', 'data', 'science', None],\n",
       " 'aBooleanValue': [True, False, True, False, False]}"
      ]
     },
     "execution_count": 20,
     "metadata": {},
     "output_type": "execute_result"
    }
   ],
   "source": [
    "dic = {\n",
    "    'randomValue': np.random.rand(5),\n",
    "    'someText': ['I', 'love', 'data', 'science', None],\n",
    "    'aBooleanValue': [np.random.choice([True, False]) for _ in range(5)]}\n",
    "dic"
   ]
  },
  {
   "cell_type": "code",
   "execution_count": 21,
   "id": "1d7048ee-45b0-46ae-9826-35f3ee066f5d",
   "metadata": {},
   "outputs": [
    {
     "data": {
      "text/html": [
       "<div>\n",
       "<style scoped>\n",
       "    .dataframe tbody tr th:only-of-type {\n",
       "        vertical-align: middle;\n",
       "    }\n",
       "\n",
       "    .dataframe tbody tr th {\n",
       "        vertical-align: top;\n",
       "    }\n",
       "\n",
       "    .dataframe thead th {\n",
       "        text-align: right;\n",
       "    }\n",
       "</style>\n",
       "<table border=\"1\" class=\"dataframe\">\n",
       "  <thead>\n",
       "    <tr style=\"text-align: right;\">\n",
       "      <th></th>\n",
       "      <th>randomValue</th>\n",
       "      <th>someText</th>\n",
       "      <th>aBooleanValue</th>\n",
       "    </tr>\n",
       "    <tr>\n",
       "      <th>Date</th>\n",
       "      <th></th>\n",
       "      <th></th>\n",
       "      <th></th>\n",
       "    </tr>\n",
       "  </thead>\n",
       "  <tbody>\n",
       "    <tr>\n",
       "      <th>2023-05-19</th>\n",
       "      <td>0.876555</td>\n",
       "      <td>I</td>\n",
       "      <td>True</td>\n",
       "    </tr>\n",
       "    <tr>\n",
       "      <th>2023-05-20</th>\n",
       "      <td>0.034163</td>\n",
       "      <td>love</td>\n",
       "      <td>False</td>\n",
       "    </tr>\n",
       "    <tr>\n",
       "      <th>2023-05-21</th>\n",
       "      <td>0.792877</td>\n",
       "      <td>data</td>\n",
       "      <td>True</td>\n",
       "    </tr>\n",
       "    <tr>\n",
       "      <th>2023-05-22</th>\n",
       "      <td>0.012929</td>\n",
       "      <td>science</td>\n",
       "      <td>False</td>\n",
       "    </tr>\n",
       "    <tr>\n",
       "      <th>2023-05-23</th>\n",
       "      <td>0.192391</td>\n",
       "      <td>None</td>\n",
       "      <td>False</td>\n",
       "    </tr>\n",
       "  </tbody>\n",
       "</table>\n",
       "</div>"
      ],
      "text/plain": [
       "            randomValue someText  aBooleanValue\n",
       "Date                                           \n",
       "2023-05-19     0.876555        I           True\n",
       "2023-05-20     0.034163     love          False\n",
       "2023-05-21     0.792877     data           True\n",
       "2023-05-22     0.012929  science          False\n",
       "2023-05-23     0.192391     None          False"
      ]
     },
     "execution_count": 21,
     "metadata": {},
     "output_type": "execute_result"
    }
   ],
   "source": [
    "df = pd.DataFrame(dic,\n",
    "                  index = pd.date_range(\n",
    "                      end = dt.date(2023, 5, 23),\n",
    "                      freq = '1D',\n",
    "                      periods = 5,\n",
    "                      name = 'Date')\n",
    "                 )\n",
    "df"
   ]
  },
  {
   "cell_type": "markdown",
   "id": "96a20710-3228-4a4b-90aa-f2f08b6cd304",
   "metadata": {},
   "source": [
    "Examining the contents."
   ]
  },
  {
   "cell_type": "code",
   "execution_count": 22,
   "id": "7dd37ee9-dd7a-4b03-8356-689a31c5cba6",
   "metadata": {},
   "outputs": [
    {
     "data": {
      "text/plain": [
       "DatetimeIndex(['2023-05-19', '2023-05-20', '2023-05-21', '2023-05-22',\n",
       "               '2023-05-23'],\n",
       "              dtype='datetime64[ns]', name='Date', freq='D')"
      ]
     },
     "execution_count": 22,
     "metadata": {},
     "output_type": "execute_result"
    }
   ],
   "source": [
    "df.index"
   ]
  },
  {
   "cell_type": "code",
   "execution_count": 23,
   "id": "870baf7c-b5c1-46bb-bdb1-11350766cfc4",
   "metadata": {},
   "outputs": [
    {
     "data": {
      "text/plain": [
       "Index(['randomValue', 'someText', 'aBooleanValue'], dtype='object')"
      ]
     },
     "execution_count": 23,
     "metadata": {},
     "output_type": "execute_result"
    }
   ],
   "source": [
    "df.columns"
   ]
  },
  {
   "cell_type": "code",
   "execution_count": 24,
   "id": "ffa9a472-c61e-4173-ae97-851388f8e5ab",
   "metadata": {},
   "outputs": [
    {
     "data": {
      "text/plain": [
       "array([[0.876554507949354, 'I', True],\n",
       "       [0.03416305828319055, 'love', False],\n",
       "       [0.7928770047030108, 'data', True],\n",
       "       [0.012929105477991976, 'science', False],\n",
       "       [0.19239136099202703, None, False]], dtype=object)"
      ]
     },
     "execution_count": 24,
     "metadata": {},
     "output_type": "execute_result"
    }
   ],
   "source": [
    "df.values"
   ]
  },
  {
   "cell_type": "markdown",
   "id": "354618f4-594f-4b5b-9243-1818dc925e20",
   "metadata": {},
   "source": [
    "This also works on lists of dictionaries which is very common when working with APIs."
   ]
  },
  {
   "cell_type": "code",
   "execution_count": 25,
   "id": "ec92eb4e-03bd-4f7c-9881-69cb8f973fca",
   "metadata": {},
   "outputs": [
    {
     "data": {
      "text/html": [
       "<div>\n",
       "<style scoped>\n",
       "    .dataframe tbody tr th:only-of-type {\n",
       "        vertical-align: middle;\n",
       "    }\n",
       "\n",
       "    .dataframe tbody tr th {\n",
       "        vertical-align: top;\n",
       "    }\n",
       "\n",
       "    .dataframe thead th {\n",
       "        text-align: right;\n",
       "    }\n",
       "</style>\n",
       "<table border=\"1\" class=\"dataframe\">\n",
       "  <thead>\n",
       "    <tr style=\"text-align: right;\">\n",
       "      <th></th>\n",
       "      <th>date</th>\n",
       "      <th>ticker</th>\n",
       "      <th>closing</th>\n",
       "    </tr>\n",
       "  </thead>\n",
       "  <tbody>\n",
       "    <tr>\n",
       "      <th>0</th>\n",
       "      <td>2023-01-01</td>\n",
       "      <td>AAPL</td>\n",
       "      <td>159.45</td>\n",
       "    </tr>\n",
       "    <tr>\n",
       "      <th>1</th>\n",
       "      <td>2023-01-01</td>\n",
       "      <td>GOOG</td>\n",
       "      <td>84.30</td>\n",
       "    </tr>\n",
       "    <tr>\n",
       "      <th>2</th>\n",
       "      <td>2023-01-01</td>\n",
       "      <td>FB2A</td>\n",
       "      <td>124.76</td>\n",
       "    </tr>\n",
       "  </tbody>\n",
       "</table>\n",
       "</div>"
      ],
      "text/plain": [
       "         date ticker  closing\n",
       "0  2023-01-01   AAPL   159.45\n",
       "1  2023-01-01   GOOG    84.30\n",
       "2  2023-01-01   FB2A   124.76"
      ]
     },
     "execution_count": 25,
     "metadata": {},
     "output_type": "execute_result"
    }
   ],
   "source": [
    "df = pd.DataFrame([\n",
    "    {'date': '2023-01-01', 'ticker': 'AAPL', 'closing': 159.45},\n",
    "    {'date': '2023-01-01', 'ticker': 'GOOG', 'closing': 84.3},\n",
    "    {'date': '2023-01-01', 'ticker': 'FB2A', 'closing': 124.76}])\n",
    "df"
   ]
  },
  {
   "cell_type": "markdown",
   "id": "3d8c5b5b-7198-43e9-9c2f-0685c61b10c2",
   "metadata": {},
   "source": [
    "In order to make a certain colums the index you can use the `set_index` method."
   ]
  },
  {
   "cell_type": "code",
   "execution_count": 26,
   "id": "6c3970a2-bc27-4327-96aa-0ff21a133eb5",
   "metadata": {},
   "outputs": [
    {
     "data": {
      "text/html": [
       "<div>\n",
       "<style scoped>\n",
       "    .dataframe tbody tr th:only-of-type {\n",
       "        vertical-align: middle;\n",
       "    }\n",
       "\n",
       "    .dataframe tbody tr th {\n",
       "        vertical-align: top;\n",
       "    }\n",
       "\n",
       "    .dataframe thead th {\n",
       "        text-align: right;\n",
       "    }\n",
       "</style>\n",
       "<table border=\"1\" class=\"dataframe\">\n",
       "  <thead>\n",
       "    <tr style=\"text-align: right;\">\n",
       "      <th></th>\n",
       "      <th>ticker</th>\n",
       "      <th>closing</th>\n",
       "    </tr>\n",
       "    <tr>\n",
       "      <th>date</th>\n",
       "      <th></th>\n",
       "      <th></th>\n",
       "    </tr>\n",
       "  </thead>\n",
       "  <tbody>\n",
       "    <tr>\n",
       "      <th>2023-01-01</th>\n",
       "      <td>AAPL</td>\n",
       "      <td>159.45</td>\n",
       "    </tr>\n",
       "    <tr>\n",
       "      <th>2023-01-01</th>\n",
       "      <td>GOOG</td>\n",
       "      <td>84.30</td>\n",
       "    </tr>\n",
       "    <tr>\n",
       "      <th>2023-01-01</th>\n",
       "      <td>FB2A</td>\n",
       "      <td>124.76</td>\n",
       "    </tr>\n",
       "  </tbody>\n",
       "</table>\n",
       "</div>"
      ],
      "text/plain": [
       "           ticker  closing\n",
       "date                      \n",
       "2023-01-01   AAPL   159.45\n",
       "2023-01-01   GOOG    84.30\n",
       "2023-01-01   FB2A   124.76"
      ]
     },
     "execution_count": 26,
     "metadata": {},
     "output_type": "execute_result"
    }
   ],
   "source": [
    "df = df.set_index('date')\n",
    "df"
   ]
  },
  {
   "cell_type": "markdown",
   "id": "1334c9a2-6e31-4482-8ea0-d8e13bc18363",
   "metadata": {},
   "source": [
    "A dataframe can also have index consisting of multiple columns."
   ]
  },
  {
   "cell_type": "code",
   "execution_count": 27,
   "id": "449add84-5fe0-4c45-8787-9be695690a64",
   "metadata": {},
   "outputs": [
    {
     "data": {
      "text/html": [
       "<div>\n",
       "<style scoped>\n",
       "    .dataframe tbody tr th:only-of-type {\n",
       "        vertical-align: middle;\n",
       "    }\n",
       "\n",
       "    .dataframe tbody tr th {\n",
       "        vertical-align: top;\n",
       "    }\n",
       "\n",
       "    .dataframe thead th {\n",
       "        text-align: right;\n",
       "    }\n",
       "</style>\n",
       "<table border=\"1\" class=\"dataframe\">\n",
       "  <thead>\n",
       "    <tr style=\"text-align: right;\">\n",
       "      <th></th>\n",
       "      <th>date</th>\n",
       "      <th>ticker</th>\n",
       "      <th>closing</th>\n",
       "    </tr>\n",
       "  </thead>\n",
       "  <tbody>\n",
       "    <tr>\n",
       "      <th>0</th>\n",
       "      <td>2023-01-01</td>\n",
       "      <td>AAPL</td>\n",
       "      <td>159.45</td>\n",
       "    </tr>\n",
       "    <tr>\n",
       "      <th>1</th>\n",
       "      <td>2023-01-01</td>\n",
       "      <td>GOOG</td>\n",
       "      <td>84.30</td>\n",
       "    </tr>\n",
       "    <tr>\n",
       "      <th>2</th>\n",
       "      <td>2023-01-01</td>\n",
       "      <td>FB2A</td>\n",
       "      <td>124.76</td>\n",
       "    </tr>\n",
       "  </tbody>\n",
       "</table>\n",
       "</div>"
      ],
      "text/plain": [
       "         date ticker  closing\n",
       "0  2023-01-01   AAPL   159.45\n",
       "1  2023-01-01   GOOG    84.30\n",
       "2  2023-01-01   FB2A   124.76"
      ]
     },
     "execution_count": 27,
     "metadata": {},
     "output_type": "execute_result"
    }
   ],
   "source": [
    "df = pd.DataFrame([\n",
    "    {'date': '2023-01-01', 'ticker': 'AAPL', 'closing': 159.45},\n",
    "    {'date': '2023-01-01', 'ticker': 'GOOG', 'closing': 84.3},\n",
    "    {'date': '2023-01-01', 'ticker': 'FB2A', 'closing': 124.76}])\n",
    "df"
   ]
  },
  {
   "cell_type": "code",
   "execution_count": 28,
   "id": "6d15eb3a-91e4-4bc3-b45f-4d504e427c26",
   "metadata": {},
   "outputs": [
    {
     "data": {
      "text/html": [
       "<div>\n",
       "<style scoped>\n",
       "    .dataframe tbody tr th:only-of-type {\n",
       "        vertical-align: middle;\n",
       "    }\n",
       "\n",
       "    .dataframe tbody tr th {\n",
       "        vertical-align: top;\n",
       "    }\n",
       "\n",
       "    .dataframe thead th {\n",
       "        text-align: right;\n",
       "    }\n",
       "</style>\n",
       "<table border=\"1\" class=\"dataframe\">\n",
       "  <thead>\n",
       "    <tr style=\"text-align: right;\">\n",
       "      <th></th>\n",
       "      <th></th>\n",
       "      <th>closing</th>\n",
       "    </tr>\n",
       "    <tr>\n",
       "      <th>date</th>\n",
       "      <th>ticker</th>\n",
       "      <th></th>\n",
       "    </tr>\n",
       "  </thead>\n",
       "  <tbody>\n",
       "    <tr>\n",
       "      <th rowspan=\"3\" valign=\"top\">2023-01-01</th>\n",
       "      <th>AAPL</th>\n",
       "      <td>159.45</td>\n",
       "    </tr>\n",
       "    <tr>\n",
       "      <th>GOOG</th>\n",
       "      <td>84.30</td>\n",
       "    </tr>\n",
       "    <tr>\n",
       "      <th>FB2A</th>\n",
       "      <td>124.76</td>\n",
       "    </tr>\n",
       "  </tbody>\n",
       "</table>\n",
       "</div>"
      ],
      "text/plain": [
       "                   closing\n",
       "date       ticker         \n",
       "2023-01-01 AAPL     159.45\n",
       "           GOOG      84.30\n",
       "           FB2A     124.76"
      ]
     },
     "execution_count": 28,
     "metadata": {},
     "output_type": "execute_result"
    }
   ],
   "source": [
    "df = df.set_index(['date', 'ticker'])\n",
    "df"
   ]
  },
  {
   "cell_type": "markdown",
   "id": "7815fc24-0e25-4958-af51-93fdda1fcf16",
   "metadata": {},
   "source": [
    "Of course dataframes can also be created from one or more Series."
   ]
  },
  {
   "cell_type": "code",
   "execution_count": 29,
   "id": "c06a8a01-b4bb-45bc-885b-b440919e98de",
   "metadata": {},
   "outputs": [
    {
     "name": "stdout",
     "output_type": "stream",
     "text": [
      "Layla     15\n",
      "Mia       13\n",
      "Laurin    11\n",
      "Lea        9\n",
      "Name: ages, dtype: int64\n"
     ]
    }
   ],
   "source": [
    "SampleSeries2 = pd.Series([15, 13, 11, 9],\n",
    "                         name = 'ages',\n",
    "                         index = ['Layla', 'Mia', 'Laurin', 'Lea'])\n",
    "print(SampleSeries2)"
   ]
  },
  {
   "cell_type": "code",
   "execution_count": 30,
   "id": "b107ddd9-ba30-4d91-b43a-5efb9a278198",
   "metadata": {},
   "outputs": [
    {
     "data": {
      "text/html": [
       "<div>\n",
       "<style scoped>\n",
       "    .dataframe tbody tr th:only-of-type {\n",
       "        vertical-align: middle;\n",
       "    }\n",
       "\n",
       "    .dataframe tbody tr th {\n",
       "        vertical-align: top;\n",
       "    }\n",
       "\n",
       "    .dataframe thead th {\n",
       "        text-align: right;\n",
       "    }\n",
       "</style>\n",
       "<table border=\"1\" class=\"dataframe\">\n",
       "  <thead>\n",
       "    <tr style=\"text-align: right;\">\n",
       "      <th></th>\n",
       "      <th>ages</th>\n",
       "    </tr>\n",
       "  </thead>\n",
       "  <tbody>\n",
       "    <tr>\n",
       "      <th>Layla</th>\n",
       "      <td>15</td>\n",
       "    </tr>\n",
       "    <tr>\n",
       "      <th>Mia</th>\n",
       "      <td>13</td>\n",
       "    </tr>\n",
       "    <tr>\n",
       "      <th>Laurin</th>\n",
       "      <td>11</td>\n",
       "    </tr>\n",
       "    <tr>\n",
       "      <th>Lea</th>\n",
       "      <td>9</td>\n",
       "    </tr>\n",
       "  </tbody>\n",
       "</table>\n",
       "</div>"
      ],
      "text/plain": [
       "        ages\n",
       "Layla     15\n",
       "Mia       13\n",
       "Laurin    11\n",
       "Lea        9"
      ]
     },
     "execution_count": 30,
     "metadata": {},
     "output_type": "execute_result"
    }
   ],
   "source": [
    "df = pd.DataFrame(SampleSeries2)\n",
    "df"
   ]
  },
  {
   "cell_type": "code",
   "execution_count": 31,
   "id": "b203485e-ea01-4cb4-a42b-749bf07d1d22",
   "metadata": {},
   "outputs": [
    {
     "data": {
      "text/html": [
       "<div>\n",
       "<style scoped>\n",
       "    .dataframe tbody tr th:only-of-type {\n",
       "        vertical-align: middle;\n",
       "    }\n",
       "\n",
       "    .dataframe tbody tr th {\n",
       "        vertical-align: top;\n",
       "    }\n",
       "\n",
       "    .dataframe thead th {\n",
       "        text-align: right;\n",
       "    }\n",
       "</style>\n",
       "<table border=\"1\" class=\"dataframe\">\n",
       "  <thead>\n",
       "    <tr style=\"text-align: right;\">\n",
       "      <th></th>\n",
       "      <th>ages</th>\n",
       "    </tr>\n",
       "  </thead>\n",
       "  <tbody>\n",
       "    <tr>\n",
       "      <th>Layla</th>\n",
       "      <td>15</td>\n",
       "    </tr>\n",
       "    <tr>\n",
       "      <th>Mia</th>\n",
       "      <td>13</td>\n",
       "    </tr>\n",
       "    <tr>\n",
       "      <th>Laurin</th>\n",
       "      <td>11</td>\n",
       "    </tr>\n",
       "    <tr>\n",
       "      <th>Lea</th>\n",
       "      <td>9</td>\n",
       "    </tr>\n",
       "  </tbody>\n",
       "</table>\n",
       "</div>"
      ],
      "text/plain": [
       "        ages\n",
       "Layla     15\n",
       "Mia       13\n",
       "Laurin    11\n",
       "Lea        9"
      ]
     },
     "execution_count": 31,
     "metadata": {},
     "output_type": "execute_result"
    }
   ],
   "source": [
    "df = SampleSeries2.to_frame()\n",
    "df"
   ]
  },
  {
   "cell_type": "markdown",
   "id": "8f36de7d-ed5d-445c-9956-a6b18605ff60",
   "metadata": {},
   "source": [
    "If you want to convert multiple Series into one Dataframe you need to do the conversion individually first and then concatenate the Dataframes into one."
   ]
  },
  {
   "cell_type": "code",
   "execution_count": 32,
   "id": "745a6a82-5729-4669-bea1-93571135a902",
   "metadata": {},
   "outputs": [
    {
     "name": "stdout",
     "output_type": "stream",
     "text": [
      "Layla       bunny\n",
      "Mia       hamster\n",
      "Laurin       None\n",
      "Lea        gerbil\n",
      "Name: pet, dtype: object\n"
     ]
    }
   ],
   "source": [
    "SampleSeries3 = pd.Series(['bunny', 'hamster', None, 'gerbil'],\n",
    "                         name = 'pet',\n",
    "                         index = ['Layla', 'Mia', 'Laurin', 'Lea'])\n",
    "print(SampleSeries3)"
   ]
  },
  {
   "cell_type": "code",
   "execution_count": 33,
   "id": "dd2b1f8b-6f29-4b3a-9e31-635fc0ac3289",
   "metadata": {},
   "outputs": [
    {
     "data": {
      "text/html": [
       "<div>\n",
       "<style scoped>\n",
       "    .dataframe tbody tr th:only-of-type {\n",
       "        vertical-align: middle;\n",
       "    }\n",
       "\n",
       "    .dataframe tbody tr th {\n",
       "        vertical-align: top;\n",
       "    }\n",
       "\n",
       "    .dataframe thead th {\n",
       "        text-align: right;\n",
       "    }\n",
       "</style>\n",
       "<table border=\"1\" class=\"dataframe\">\n",
       "  <thead>\n",
       "    <tr style=\"text-align: right;\">\n",
       "      <th></th>\n",
       "      <th>ages</th>\n",
       "      <th>pet</th>\n",
       "    </tr>\n",
       "  </thead>\n",
       "  <tbody>\n",
       "    <tr>\n",
       "      <th>Layla</th>\n",
       "      <td>15</td>\n",
       "      <td>bunny</td>\n",
       "    </tr>\n",
       "    <tr>\n",
       "      <th>Mia</th>\n",
       "      <td>13</td>\n",
       "      <td>hamster</td>\n",
       "    </tr>\n",
       "    <tr>\n",
       "      <th>Laurin</th>\n",
       "      <td>11</td>\n",
       "      <td>None</td>\n",
       "    </tr>\n",
       "    <tr>\n",
       "      <th>Lea</th>\n",
       "      <td>9</td>\n",
       "      <td>gerbil</td>\n",
       "    </tr>\n",
       "  </tbody>\n",
       "</table>\n",
       "</div>"
      ],
      "text/plain": [
       "        ages      pet\n",
       "Layla     15    bunny\n",
       "Mia       13  hamster\n",
       "Laurin    11     None\n",
       "Lea        9   gerbil"
      ]
     },
     "execution_count": 33,
     "metadata": {},
     "output_type": "execute_result"
    }
   ],
   "source": [
    "df2 = SampleSeries2.to_frame()\n",
    "df3 = SampleSeries3.to_frame()\n",
    "df = pd.concat([df2, df3], axis=1)\n",
    "df"
   ]
  },
  {
   "cell_type": "markdown",
   "id": "51a9e491-4d33-498b-9aed-d28e033990e3",
   "metadata": {},
   "source": [
    "There is another way using the `Dataframe` method."
   ]
  },
  {
   "cell_type": "code",
   "execution_count": 34,
   "id": "2a3bbbbd-0fdd-4d1f-b61b-c01c05fb112f",
   "metadata": {},
   "outputs": [
    {
     "data": {
      "text/html": [
       "<div>\n",
       "<style scoped>\n",
       "    .dataframe tbody tr th:only-of-type {\n",
       "        vertical-align: middle;\n",
       "    }\n",
       "\n",
       "    .dataframe tbody tr th {\n",
       "        vertical-align: top;\n",
       "    }\n",
       "\n",
       "    .dataframe thead th {\n",
       "        text-align: right;\n",
       "    }\n",
       "</style>\n",
       "<table border=\"1\" class=\"dataframe\">\n",
       "  <thead>\n",
       "    <tr style=\"text-align: right;\">\n",
       "      <th></th>\n",
       "      <th>Layla</th>\n",
       "      <th>Mia</th>\n",
       "      <th>Laurin</th>\n",
       "      <th>Lea</th>\n",
       "    </tr>\n",
       "  </thead>\n",
       "  <tbody>\n",
       "    <tr>\n",
       "      <th>ages</th>\n",
       "      <td>15</td>\n",
       "      <td>13</td>\n",
       "      <td>11.0</td>\n",
       "      <td>9</td>\n",
       "    </tr>\n",
       "    <tr>\n",
       "      <th>pet</th>\n",
       "      <td>bunny</td>\n",
       "      <td>hamster</td>\n",
       "      <td>NaN</td>\n",
       "      <td>gerbil</td>\n",
       "    </tr>\n",
       "  </tbody>\n",
       "</table>\n",
       "</div>"
      ],
      "text/plain": [
       "      Layla      Mia  Laurin     Lea\n",
       "ages     15       13    11.0       9\n",
       "pet   bunny  hamster     NaN  gerbil"
      ]
     },
     "execution_count": 34,
     "metadata": {},
     "output_type": "execute_result"
    }
   ],
   "source": [
    "df = pd.DataFrame([SampleSeries2, SampleSeries3])\n",
    "df"
   ]
  },
  {
   "cell_type": "markdown",
   "id": "c61b8ac3-abb1-4476-86d6-7561ca653224",
   "metadata": {},
   "source": [
    "The result has the original index values as columns which is not what we want. An easy fix is to transpose the output."
   ]
  },
  {
   "cell_type": "code",
   "execution_count": 35,
   "id": "ef0c1804-9f80-448e-85c1-087eb526eb7b",
   "metadata": {},
   "outputs": [
    {
     "data": {
      "text/html": [
       "<div>\n",
       "<style scoped>\n",
       "    .dataframe tbody tr th:only-of-type {\n",
       "        vertical-align: middle;\n",
       "    }\n",
       "\n",
       "    .dataframe tbody tr th {\n",
       "        vertical-align: top;\n",
       "    }\n",
       "\n",
       "    .dataframe thead th {\n",
       "        text-align: right;\n",
       "    }\n",
       "</style>\n",
       "<table border=\"1\" class=\"dataframe\">\n",
       "  <thead>\n",
       "    <tr style=\"text-align: right;\">\n",
       "      <th></th>\n",
       "      <th>ages</th>\n",
       "      <th>pet</th>\n",
       "    </tr>\n",
       "  </thead>\n",
       "  <tbody>\n",
       "    <tr>\n",
       "      <th>Layla</th>\n",
       "      <td>15</td>\n",
       "      <td>bunny</td>\n",
       "    </tr>\n",
       "    <tr>\n",
       "      <th>Mia</th>\n",
       "      <td>13</td>\n",
       "      <td>hamster</td>\n",
       "    </tr>\n",
       "    <tr>\n",
       "      <th>Laurin</th>\n",
       "      <td>11.0</td>\n",
       "      <td>NaN</td>\n",
       "    </tr>\n",
       "    <tr>\n",
       "      <th>Lea</th>\n",
       "      <td>9</td>\n",
       "      <td>gerbil</td>\n",
       "    </tr>\n",
       "  </tbody>\n",
       "</table>\n",
       "</div>"
      ],
      "text/plain": [
       "        ages      pet\n",
       "Layla     15    bunny\n",
       "Mia       13  hamster\n",
       "Laurin  11.0      NaN\n",
       "Lea        9   gerbil"
      ]
     },
     "execution_count": 35,
     "metadata": {},
     "output_type": "execute_result"
    }
   ],
   "source": [
    "df = pd.DataFrame([SampleSeries2, SampleSeries3]).T\n",
    "df"
   ]
  },
  {
   "cell_type": "markdown",
   "id": "02501278-2e48-47b7-ba4f-bd50f94d2671",
   "metadata": {
    "tags": []
   },
   "source": [
    "### Accessing data in a Dataframe"
   ]
  },
  {
   "cell_type": "code",
   "execution_count": 36,
   "id": "54a1034d-2ec7-415a-ab81-460d6fab17a4",
   "metadata": {},
   "outputs": [
    {
     "data": {
      "text/html": [
       "<div>\n",
       "<style scoped>\n",
       "    .dataframe tbody tr th:only-of-type {\n",
       "        vertical-align: middle;\n",
       "    }\n",
       "\n",
       "    .dataframe tbody tr th {\n",
       "        vertical-align: top;\n",
       "    }\n",
       "\n",
       "    .dataframe thead th {\n",
       "        text-align: right;\n",
       "    }\n",
       "</style>\n",
       "<table border=\"1\" class=\"dataframe\">\n",
       "  <thead>\n",
       "    <tr style=\"text-align: right;\">\n",
       "      <th></th>\n",
       "      <th>randomValue</th>\n",
       "      <th>someText</th>\n",
       "      <th>aBooleanValue</th>\n",
       "    </tr>\n",
       "  </thead>\n",
       "  <tbody>\n",
       "    <tr>\n",
       "      <th>Row_1</th>\n",
       "      <td>0.334864</td>\n",
       "      <td>I</td>\n",
       "      <td>False</td>\n",
       "    </tr>\n",
       "    <tr>\n",
       "      <th>Row_2</th>\n",
       "      <td>0.726751</td>\n",
       "      <td>love</td>\n",
       "      <td>True</td>\n",
       "    </tr>\n",
       "    <tr>\n",
       "      <th>Row_3</th>\n",
       "      <td>0.422415</td>\n",
       "      <td>data</td>\n",
       "      <td>False</td>\n",
       "    </tr>\n",
       "    <tr>\n",
       "      <th>Row_4</th>\n",
       "      <td>0.628801</td>\n",
       "      <td>science</td>\n",
       "      <td>True</td>\n",
       "    </tr>\n",
       "    <tr>\n",
       "      <th>Row_5</th>\n",
       "      <td>0.658858</td>\n",
       "      <td>None</td>\n",
       "      <td>True</td>\n",
       "    </tr>\n",
       "  </tbody>\n",
       "</table>\n",
       "</div>"
      ],
      "text/plain": [
       "       randomValue someText  aBooleanValue\n",
       "Row_1     0.334864        I          False\n",
       "Row_2     0.726751     love           True\n",
       "Row_3     0.422415     data          False\n",
       "Row_4     0.628801  science           True\n",
       "Row_5     0.658858     None           True"
      ]
     },
     "execution_count": 36,
     "metadata": {},
     "output_type": "execute_result"
    }
   ],
   "source": [
    "df = pd.DataFrame({\n",
    "            'randomValue': np.random.rand(5),\n",
    "            'someText': ['I', 'love', 'data', 'science', None],\n",
    "            'aBooleanValue': [np.random.choice([True, False]) for _ in range(5)]\n",
    "            },\n",
    "            index = ['Row_1', 'Row_2', 'Row_3', 'Row_4', 'Row_5']\n",
    "            )\n",
    "df"
   ]
  },
  {
   "cell_type": "markdown",
   "id": "0b35d472-dfe0-4205-bd1c-2d9cb0ff6062",
   "metadata": {},
   "source": [
    "#### Accessing columns"
   ]
  },
  {
   "cell_type": "code",
   "execution_count": 37,
   "id": "b3745beb-f320-4d84-8818-64cef701e09a",
   "metadata": {},
   "outputs": [
    {
     "data": {
      "text/plain": [
       "Row_1          I\n",
       "Row_2       love\n",
       "Row_3       data\n",
       "Row_4    science\n",
       "Row_5       None\n",
       "Name: someText, dtype: object"
      ]
     },
     "execution_count": 37,
     "metadata": {},
     "output_type": "execute_result"
    }
   ],
   "source": [
    "df['someText']"
   ]
  },
  {
   "cell_type": "code",
   "execution_count": 38,
   "id": "9b2d3c6f-17ab-4d75-8118-ab132c3435e1",
   "metadata": {},
   "outputs": [
    {
     "data": {
      "text/plain": [
       "array(['I', 'love', 'data', 'science', None], dtype=object)"
      ]
     },
     "execution_count": 38,
     "metadata": {},
     "output_type": "execute_result"
    }
   ],
   "source": [
    "df['someText'].values"
   ]
  },
  {
   "cell_type": "markdown",
   "id": "85b06253-3196-47f7-a190-637261137aab",
   "metadata": {},
   "source": [
    "If the column name doesn't contain spaces you can also use the .-notation."
   ]
  },
  {
   "cell_type": "code",
   "execution_count": 39,
   "id": "c3269f0e-cce7-42ff-a6de-c51e3a42ddd6",
   "metadata": {},
   "outputs": [
    {
     "data": {
      "text/plain": [
       "Row_1          I\n",
       "Row_2       love\n",
       "Row_3       data\n",
       "Row_4    science\n",
       "Row_5       None\n",
       "Name: someText, dtype: object"
      ]
     },
     "execution_count": 39,
     "metadata": {},
     "output_type": "execute_result"
    }
   ],
   "source": [
    "df.someText"
   ]
  },
  {
   "cell_type": "code",
   "execution_count": 40,
   "id": "54f50436-0f3d-4b50-8dd2-f69d70056172",
   "metadata": {},
   "outputs": [
    {
     "data": {
      "text/plain": [
       "array(['I', 'love', 'data', 'science', None], dtype=object)"
      ]
     },
     "execution_count": 40,
     "metadata": {},
     "output_type": "execute_result"
    }
   ],
   "source": [
    "df.someText.values"
   ]
  },
  {
   "cell_type": "code",
   "execution_count": 41,
   "id": "651b6f10-2682-414d-994b-f838b271c6df",
   "metadata": {},
   "outputs": [
    {
     "data": {
      "text/plain": [
       "'love'"
      ]
     },
     "execution_count": 41,
     "metadata": {},
     "output_type": "execute_result"
    }
   ],
   "source": [
    "df.someText['Row_2']"
   ]
  },
  {
   "cell_type": "code",
   "execution_count": 42,
   "id": "5f52d25d-9d53-4f49-b3b1-db80b466982c",
   "metadata": {},
   "outputs": [
    {
     "data": {
      "text/plain": [
       "'love'"
      ]
     },
     "execution_count": 42,
     "metadata": {},
     "output_type": "execute_result"
    }
   ],
   "source": [
    "df.someText.values[1]"
   ]
  },
  {
   "cell_type": "markdown",
   "id": "1e0166d0-677c-4dac-b10d-c2b9fd3bc89e",
   "metadata": {},
   "source": [
    "#### loc\n",
    "\n",
    "DataFrame.loc method is a method that takes only index labels and returns row or dataframe if the index label exists in the caller data frame."
   ]
  },
  {
   "cell_type": "code",
   "execution_count": 43,
   "id": "7a888302-0894-450a-a2d9-3bfe78fcd443",
   "metadata": {},
   "outputs": [
    {
     "data": {
      "text/plain": [
       "randomValue      0.726751\n",
       "someText             love\n",
       "aBooleanValue        True\n",
       "Name: Row_2, dtype: object"
      ]
     },
     "execution_count": 43,
     "metadata": {},
     "output_type": "execute_result"
    }
   ],
   "source": [
    "df.loc['Row_2']"
   ]
  },
  {
   "cell_type": "code",
   "execution_count": 44,
   "id": "d5154149-9dde-41f3-8a92-bef5042a7634",
   "metadata": {},
   "outputs": [
    {
     "data": {
      "text/plain": [
       "randomValue      0.726751\n",
       "someText             love\n",
       "aBooleanValue        True\n",
       "Name: Row_2, dtype: object"
      ]
     },
     "execution_count": 44,
     "metadata": {},
     "output_type": "execute_result"
    }
   ],
   "source": [
    "df.loc['Row_2', :]"
   ]
  },
  {
   "cell_type": "code",
   "execution_count": 45,
   "id": "cde2f53c-3425-42d2-9f7c-315c68ba9c57",
   "metadata": {},
   "outputs": [
    {
     "data": {
      "text/plain": [
       "'love'"
      ]
     },
     "execution_count": 45,
     "metadata": {},
     "output_type": "execute_result"
    }
   ],
   "source": [
    "df.loc['Row_2', 'someText']"
   ]
  },
  {
   "cell_type": "code",
   "execution_count": 46,
   "id": "d9cea6d3-3e8b-40f8-98c5-d0a98963c4d3",
   "metadata": {},
   "outputs": [
    {
     "data": {
      "text/plain": [
       "someText           love\n",
       "randomValue    0.726751\n",
       "Name: Row_2, dtype: object"
      ]
     },
     "execution_count": 46,
     "metadata": {},
     "output_type": "execute_result"
    }
   ],
   "source": [
    "df.loc['Row_2', ['someText', 'randomValue']]"
   ]
  },
  {
   "cell_type": "code",
   "execution_count": 47,
   "id": "134f60f1-e9a0-4e31-8a53-35ffbd70dfcd",
   "metadata": {},
   "outputs": [
    {
     "data": {
      "text/plain": [
       "array(['love', 0.7267509631705936], dtype=object)"
      ]
     },
     "execution_count": 47,
     "metadata": {},
     "output_type": "execute_result"
    }
   ],
   "source": [
    "df.loc['Row_2', ['someText', 'randomValue']].values"
   ]
  },
  {
   "cell_type": "code",
   "execution_count": 48,
   "id": "fed3961d-78c7-4265-b98c-f29748014897",
   "metadata": {},
   "outputs": [
    {
     "data": {
      "text/plain": [
       "Row_1          I\n",
       "Row_2       love\n",
       "Row_3       data\n",
       "Row_4    science\n",
       "Row_5       None\n",
       "Name: someText, dtype: object"
      ]
     },
     "execution_count": 48,
     "metadata": {},
     "output_type": "execute_result"
    }
   ],
   "source": [
    "df.loc[:, 'someText']"
   ]
  },
  {
   "cell_type": "code",
   "execution_count": 49,
   "id": "bdeb49a4-d071-4ab7-9d05-7a9de566a563",
   "metadata": {},
   "outputs": [
    {
     "data": {
      "text/html": [
       "<div>\n",
       "<style scoped>\n",
       "    .dataframe tbody tr th:only-of-type {\n",
       "        vertical-align: middle;\n",
       "    }\n",
       "\n",
       "    .dataframe tbody tr th {\n",
       "        vertical-align: top;\n",
       "    }\n",
       "\n",
       "    .dataframe thead th {\n",
       "        text-align: right;\n",
       "    }\n",
       "</style>\n",
       "<table border=\"1\" class=\"dataframe\">\n",
       "  <thead>\n",
       "    <tr style=\"text-align: right;\">\n",
       "      <th></th>\n",
       "      <th>randomValue</th>\n",
       "      <th>someText</th>\n",
       "      <th>aBooleanValue</th>\n",
       "    </tr>\n",
       "  </thead>\n",
       "  <tbody>\n",
       "    <tr>\n",
       "      <th>Row_2</th>\n",
       "      <td>0.726751</td>\n",
       "      <td>love</td>\n",
       "      <td>True</td>\n",
       "    </tr>\n",
       "    <tr>\n",
       "      <th>Row_3</th>\n",
       "      <td>0.422415</td>\n",
       "      <td>data</td>\n",
       "      <td>False</td>\n",
       "    </tr>\n",
       "    <tr>\n",
       "      <th>Row_4</th>\n",
       "      <td>0.628801</td>\n",
       "      <td>science</td>\n",
       "      <td>True</td>\n",
       "    </tr>\n",
       "  </tbody>\n",
       "</table>\n",
       "</div>"
      ],
      "text/plain": [
       "       randomValue someText  aBooleanValue\n",
       "Row_2     0.726751     love           True\n",
       "Row_3     0.422415     data          False\n",
       "Row_4     0.628801  science           True"
      ]
     },
     "execution_count": 49,
     "metadata": {},
     "output_type": "execute_result"
    }
   ],
   "source": [
    "df.loc['Row_2':'Row_4', :]"
   ]
  },
  {
   "cell_type": "code",
   "execution_count": 50,
   "id": "f9285cd2-02d4-4848-8c84-d08df473da79",
   "metadata": {},
   "outputs": [
    {
     "data": {
      "text/html": [
       "<div>\n",
       "<style scoped>\n",
       "    .dataframe tbody tr th:only-of-type {\n",
       "        vertical-align: middle;\n",
       "    }\n",
       "\n",
       "    .dataframe tbody tr th {\n",
       "        vertical-align: top;\n",
       "    }\n",
       "\n",
       "    .dataframe thead th {\n",
       "        text-align: right;\n",
       "    }\n",
       "</style>\n",
       "<table border=\"1\" class=\"dataframe\">\n",
       "  <thead>\n",
       "    <tr style=\"text-align: right;\">\n",
       "      <th></th>\n",
       "      <th>randomValue</th>\n",
       "      <th>someText</th>\n",
       "      <th>aBooleanValue</th>\n",
       "    </tr>\n",
       "  </thead>\n",
       "  <tbody>\n",
       "    <tr>\n",
       "      <th>Row_2</th>\n",
       "      <td>0.726751</td>\n",
       "      <td>love</td>\n",
       "      <td>True</td>\n",
       "    </tr>\n",
       "    <tr>\n",
       "      <th>Row_3</th>\n",
       "      <td>0.422415</td>\n",
       "      <td>data</td>\n",
       "      <td>False</td>\n",
       "    </tr>\n",
       "    <tr>\n",
       "      <th>Row_4</th>\n",
       "      <td>0.628801</td>\n",
       "      <td>science</td>\n",
       "      <td>True</td>\n",
       "    </tr>\n",
       "    <tr>\n",
       "      <th>Row_5</th>\n",
       "      <td>0.658858</td>\n",
       "      <td>None</td>\n",
       "      <td>True</td>\n",
       "    </tr>\n",
       "  </tbody>\n",
       "</table>\n",
       "</div>"
      ],
      "text/plain": [
       "       randomValue someText  aBooleanValue\n",
       "Row_2     0.726751     love           True\n",
       "Row_3     0.422415     data          False\n",
       "Row_4     0.628801  science           True\n",
       "Row_5     0.658858     None           True"
      ]
     },
     "execution_count": 50,
     "metadata": {},
     "output_type": "execute_result"
    }
   ],
   "source": [
    "df.loc['Row_2':, :]"
   ]
  },
  {
   "cell_type": "markdown",
   "id": "f4f88598-bf77-41d8-9200-2f7b1abf9d89",
   "metadata": {},
   "source": [
    "#### iloc\n",
    "\n",
    "Dataframe.iloc method is used when the index label of a data frame is something other than numeric series of 0, 1, 2, 3….n or in case the user doesn’t know the index label. Rows can be extracted using an imaginary index position which isn’t visible in the data frame."
   ]
  },
  {
   "cell_type": "code",
   "execution_count": 51,
   "id": "cbe8c4ad-4766-48b0-9dfa-5df19bd106d3",
   "metadata": {},
   "outputs": [
    {
     "data": {
      "text/html": [
       "<div>\n",
       "<style scoped>\n",
       "    .dataframe tbody tr th:only-of-type {\n",
       "        vertical-align: middle;\n",
       "    }\n",
       "\n",
       "    .dataframe tbody tr th {\n",
       "        vertical-align: top;\n",
       "    }\n",
       "\n",
       "    .dataframe thead th {\n",
       "        text-align: right;\n",
       "    }\n",
       "</style>\n",
       "<table border=\"1\" class=\"dataframe\">\n",
       "  <thead>\n",
       "    <tr style=\"text-align: right;\">\n",
       "      <th></th>\n",
       "      <th>randomValue</th>\n",
       "      <th>someText</th>\n",
       "      <th>aBooleanValue</th>\n",
       "    </tr>\n",
       "  </thead>\n",
       "  <tbody>\n",
       "    <tr>\n",
       "      <th>Row_3</th>\n",
       "      <td>0.422415</td>\n",
       "      <td>data</td>\n",
       "      <td>False</td>\n",
       "    </tr>\n",
       "    <tr>\n",
       "      <th>Row_4</th>\n",
       "      <td>0.628801</td>\n",
       "      <td>science</td>\n",
       "      <td>True</td>\n",
       "    </tr>\n",
       "  </tbody>\n",
       "</table>\n",
       "</div>"
      ],
      "text/plain": [
       "       randomValue someText  aBooleanValue\n",
       "Row_3     0.422415     data          False\n",
       "Row_4     0.628801  science           True"
      ]
     },
     "execution_count": 51,
     "metadata": {},
     "output_type": "execute_result"
    }
   ],
   "source": [
    "df.iloc[2:4]"
   ]
  },
  {
   "cell_type": "code",
   "execution_count": 52,
   "id": "39f3d7ca-6aed-4a04-9eb6-9594326b5633",
   "metadata": {},
   "outputs": [
    {
     "data": {
      "text/html": [
       "<div>\n",
       "<style scoped>\n",
       "    .dataframe tbody tr th:only-of-type {\n",
       "        vertical-align: middle;\n",
       "    }\n",
       "\n",
       "    .dataframe tbody tr th {\n",
       "        vertical-align: top;\n",
       "    }\n",
       "\n",
       "    .dataframe thead th {\n",
       "        text-align: right;\n",
       "    }\n",
       "</style>\n",
       "<table border=\"1\" class=\"dataframe\">\n",
       "  <thead>\n",
       "    <tr style=\"text-align: right;\">\n",
       "      <th></th>\n",
       "      <th>randomValue</th>\n",
       "      <th>someText</th>\n",
       "      <th>aBooleanValue</th>\n",
       "    </tr>\n",
       "  </thead>\n",
       "  <tbody>\n",
       "    <tr>\n",
       "      <th>Row_3</th>\n",
       "      <td>0.422415</td>\n",
       "      <td>data</td>\n",
       "      <td>False</td>\n",
       "    </tr>\n",
       "    <tr>\n",
       "      <th>Row_5</th>\n",
       "      <td>0.658858</td>\n",
       "      <td>None</td>\n",
       "      <td>True</td>\n",
       "    </tr>\n",
       "    <tr>\n",
       "      <th>Row_1</th>\n",
       "      <td>0.334864</td>\n",
       "      <td>I</td>\n",
       "      <td>False</td>\n",
       "    </tr>\n",
       "  </tbody>\n",
       "</table>\n",
       "</div>"
      ],
      "text/plain": [
       "       randomValue someText  aBooleanValue\n",
       "Row_3     0.422415     data          False\n",
       "Row_5     0.658858     None           True\n",
       "Row_1     0.334864        I          False"
      ]
     },
     "execution_count": 52,
     "metadata": {},
     "output_type": "execute_result"
    }
   ],
   "source": [
    "df.iloc[[2,4,0]]"
   ]
  },
  {
   "cell_type": "code",
   "execution_count": 53,
   "id": "62bcd1d2-d751-4891-a29c-35a0011c32fd",
   "metadata": {},
   "outputs": [
    {
     "data": {
      "text/plain": [
       "Row_3    data\n",
       "Row_5    None\n",
       "Row_1       I\n",
       "Name: someText, dtype: object"
      ]
     },
     "execution_count": 53,
     "metadata": {},
     "output_type": "execute_result"
    }
   ],
   "source": [
    "df.iloc[[2,4,0]]['someText']"
   ]
  },
  {
   "cell_type": "markdown",
   "id": "2d2b0cb6-7ea8-4a3a-b99a-ef34f21e4528",
   "metadata": {},
   "source": [
    "#### Boolean subsetting\n",
    "\n",
    "Another way to subset a dataframe that is very commonly used is to use a boolean vector to select the rows that should be kept."
   ]
  },
  {
   "cell_type": "code",
   "execution_count": 54,
   "id": "aab05b6a-2dc4-4e79-9991-0673b0f73af6",
   "metadata": {},
   "outputs": [
    {
     "data": {
      "text/plain": [
       "Row_1    True\n",
       "Row_2    True\n",
       "Row_3    True\n",
       "Row_4    True\n",
       "Row_5    True\n",
       "Name: randomValue, dtype: bool"
      ]
     },
     "execution_count": 54,
     "metadata": {},
     "output_type": "execute_result"
    }
   ],
   "source": [
    "df['randomValue'] > 0.3"
   ]
  },
  {
   "cell_type": "code",
   "execution_count": 55,
   "id": "86ab2ee5-169c-4f4f-b267-3499eebfea6d",
   "metadata": {},
   "outputs": [
    {
     "data": {
      "text/html": [
       "<div>\n",
       "<style scoped>\n",
       "    .dataframe tbody tr th:only-of-type {\n",
       "        vertical-align: middle;\n",
       "    }\n",
       "\n",
       "    .dataframe tbody tr th {\n",
       "        vertical-align: top;\n",
       "    }\n",
       "\n",
       "    .dataframe thead th {\n",
       "        text-align: right;\n",
       "    }\n",
       "</style>\n",
       "<table border=\"1\" class=\"dataframe\">\n",
       "  <thead>\n",
       "    <tr style=\"text-align: right;\">\n",
       "      <th></th>\n",
       "      <th>randomValue</th>\n",
       "      <th>someText</th>\n",
       "      <th>aBooleanValue</th>\n",
       "    </tr>\n",
       "  </thead>\n",
       "  <tbody>\n",
       "    <tr>\n",
       "      <th>Row_1</th>\n",
       "      <td>0.334864</td>\n",
       "      <td>I</td>\n",
       "      <td>False</td>\n",
       "    </tr>\n",
       "    <tr>\n",
       "      <th>Row_2</th>\n",
       "      <td>0.726751</td>\n",
       "      <td>love</td>\n",
       "      <td>True</td>\n",
       "    </tr>\n",
       "    <tr>\n",
       "      <th>Row_3</th>\n",
       "      <td>0.422415</td>\n",
       "      <td>data</td>\n",
       "      <td>False</td>\n",
       "    </tr>\n",
       "    <tr>\n",
       "      <th>Row_4</th>\n",
       "      <td>0.628801</td>\n",
       "      <td>science</td>\n",
       "      <td>True</td>\n",
       "    </tr>\n",
       "    <tr>\n",
       "      <th>Row_5</th>\n",
       "      <td>0.658858</td>\n",
       "      <td>None</td>\n",
       "      <td>True</td>\n",
       "    </tr>\n",
       "  </tbody>\n",
       "</table>\n",
       "</div>"
      ],
      "text/plain": [
       "       randomValue someText  aBooleanValue\n",
       "Row_1     0.334864        I          False\n",
       "Row_2     0.726751     love           True\n",
       "Row_3     0.422415     data          False\n",
       "Row_4     0.628801  science           True\n",
       "Row_5     0.658858     None           True"
      ]
     },
     "execution_count": 55,
     "metadata": {},
     "output_type": "execute_result"
    }
   ],
   "source": [
    "df.loc[df['randomValue'] > 0.3]"
   ]
  }
 ],
 "metadata": {
  "kernelspec": {
   "display_name": "Python 3 (ipykernel)",
   "language": "python",
   "name": "python3"
  },
  "language_info": {
   "codemirror_mode": {
    "name": "ipython",
    "version": 3
   },
   "file_extension": ".py",
   "mimetype": "text/x-python",
   "name": "python",
   "nbconvert_exporter": "python",
   "pygments_lexer": "ipython3",
   "version": "3.9.13"
  }
 },
 "nbformat": 4,
 "nbformat_minor": 5
}
